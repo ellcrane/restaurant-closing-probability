{
 "cells": [
  {
   "cell_type": "code",
   "execution_count": 1,
   "metadata": {
    "collapsed": true
   },
   "outputs": [],
   "source": [
    "import pandas as pd\n",
    "from sklearn.model_selection import train_test_split, cross_val_score\n",
    "from sklearn.ensemble import RandomForestClassifier\n",
    "from sklearn.metrics import confusion_matrix, roc_curve, auc, classification_report\n",
    "import autoregression\n",
    "import matplotlib.pyplot as plt\n",
    "%matplotlib inline"
   ]
  },
  {
   "cell_type": "code",
   "execution_count": 3,
   "metadata": {},
   "outputs": [
    {
     "name": "stderr",
     "output_type": "stream",
     "text": [
      "/Users/ElliottC/anaconda3/lib/python3.6/site-packages/ipykernel_launcher.py:44: DataConversionWarning: A column-vector y was passed when a 1d array was expected. Please change the shape of y to (n_samples,), for example using ravel().\n"
     ]
    }
   ],
   "source": [
    "df = pd.read_csv('/Users/ElliottC/g/projects/yelp/predicting_restaurant_closure/data/featurized_dataframe.csv')\n",
    "y_true = df[['closed_on_google']]\n",
    "x_columns = df[['count','review_count','stars',\n",
    "    'Attribute|has_Alcohol', 'Attribute|has_Ambience|casual', 'Attribute|has_Ambience|classy', \n",
    "                'Attribute|has_Ambience|divey', 'Attribute|has_Ambience|hipster', \n",
    "                'Attribute|has_Ambience|intimate', 'Attribute|has_Ambience|romantic', \n",
    "                'Attribute|has_Ambience|touristy', 'Attribute|has_Ambience|trendy', \n",
    "                'Attribute|has_Ambience|upscale', 'Attribute|has_BikeParking', \n",
    "                'Attribute|has_BusinessAcceptsCreditCards', 'Attribute|has_BusinessParking|garage', \n",
    "                'Attribute|has_BusinessParking|lot', 'Attribute|has_BusinessParking|street', \n",
    "                'Attribute|has_BusinessParking|valet', 'Attribute|has_BusinessParking|validated', \n",
    "                'Attribute|has_Caters', 'Attribute|has_CoatCheck', 'Attribute|has_DogsAllowed', \n",
    "                'Attribute|has_DriveThru', 'Attribute|has_GoodForDancing', 'Attribute|has_GoodForKids', \n",
    "                'Attribute|has_GoodForMeal|breakfast', 'Attribute|has_GoodForMeal|brunch', \n",
    "                'Attribute|has_GoodForMeal|dessert', 'Attribute|has_GoodForMeal|dinner', \n",
    "                'Attribute|has_GoodForMeal|latenight', 'Attribute|has_GoodForMeal|lunch', \n",
    "                'Attribute|has_HappyHour', 'Attribute|has_HasTV', 'Attribute|has_Music|background_music', \n",
    "                'Attribute|has_Music|dj', 'Attribute|has_Music|jukebox', 'Attribute|has_Music|karaoke', \n",
    "                'Attribute|has_Music|live', 'Attribute|has_Music|no_music', 'Attribute|has_Music|video', \n",
    "                'Attribute|has_NoiseLevel', 'Attribute|has_OutdoorSeating', 'Attribute|has_RestaurantsAttire', \n",
    "                'Attribute|has_RestaurantsDelivery', 'Attribute|has_RestaurantsGoodForGroups', \n",
    "                'Attribute|has_RestaurantsPriceRange2', 'Attribute|has_RestaurantsReservations', \n",
    "                'Attribute|has_RestaurantsTableService', 'Attribute|has_RestaurantsTakeOut', \n",
    "                'Attribute|has_Smoking', 'Attribute|has_WheelchairAccessible', 'Attribute|has_WiFi', \n",
    "                'Category|American (New)_true', 'Category|American (Traditional)_true', \n",
    "                'Category|Arts & Entertainment_true', 'Category|Asian Fusion_true', \n",
    "                'Category|Automotive_true', 'Category|Bakeries_true', 'Category|Barbeque_true', \n",
    "                'Category|Bars_true', 'Category|Beer_true', 'Category|Breakfast & Brunch_true', \n",
    "                'Category|Burgers_true', 'Category|Cafes_true', 'Category|Caterers_true', \n",
    "                'Category|Chicken Wings_true', 'Category|Chinese_true', 'Category|Cocktail Bars_true',\n",
    "                'Category|Coffee & Tea_true', 'Category|Convenience Stores_true', 'Category|Delis_true', \n",
    "                'Category|Desserts_true', 'Category|Diners_true', 'Category|Drugstores_true', \n",
    "                'Category|Event Planning & Services_true', 'Category|Fast Food_true', \n",
    "                'Category|Food Trucks_true', 'Category|Food_true', 'Category|Gas Stations_true', \n",
    "                'Category|Grocery_true', 'Category|Ice Cream & Frozen Yogurt_true', \n",
    "                'Category|Italian_true', 'Category|Japanese_true', 'Category|Juice Bars & Smoothies_true', \n",
    "                'Category|Lounges_true', 'Category|Mediterranean_true', 'Category|Mexican_true', \n",
    "                'Category|Nightlife_true', 'Category|Pizza_true', 'Category|Pubs_true', \n",
    "                'Category|Restaurants_true', 'Category|Salad_true', 'Category|Sandwiches_true', \n",
    "                'Category|Seafood_true', 'Category|Shopping_true', 'Category|Specialty Food_true', \n",
    "                'Category|Sports Bars_true', 'Category|Steakhouses_true', 'Category|Sushi Bars_true', \n",
    "                'Category|Tex-Mex_true', 'Category|Wine & Spirits_true', 'Category|Wine Bars_true']]\n",
    "model = RandomForestClassifier()\n",
    "model.fit(x_columns, y_true)\n",
    "y_pred = model.predict(x_columns)\n",
    "\n",
    "X_train, X_test, y_train, y_test = train_test_split(x_columns, y_true, test_size=0.33, random_state=42)"
   ]
  },
  {
   "cell_type": "code",
   "execution_count": null,
   "metadata": {
    "collapsed": true
   },
   "outputs": [],
   "source": [
    "total_df = df[['closed_on_google','count','review_count','stars',\n",
    "    'Attribute|has_Alcohol', 'Attribute|has_Ambience|casual', 'Attribute|has_Ambience|classy', \n",
    "                'Attribute|has_Ambience|divey', 'Attribute|has_Ambience|hipster', \n",
    "                'Attribute|has_Ambience|intimate', 'Attribute|has_Ambience|romantic', \n",
    "                'Attribute|has_Ambience|touristy', 'Attribute|has_Ambience|trendy', \n",
    "                'Attribute|has_Ambience|upscale', 'Attribute|has_BikeParking', \n",
    "                'Attribute|has_BusinessAcceptsCreditCards', 'Attribute|has_BusinessParking|garage', \n",
    "                'Attribute|has_BusinessParking|lot', 'Attribute|has_BusinessParking|street', \n",
    "                'Attribute|has_BusinessParking|valet', 'Attribute|has_BusinessParking|validated', \n",
    "                'Attribute|has_Caters', 'Attribute|has_CoatCheck', 'Attribute|has_DogsAllowed', \n",
    "                'Attribute|has_DriveThru', 'Attribute|has_GoodForDancing', 'Attribute|has_GoodForKids', \n",
    "                'Attribute|has_GoodForMeal|breakfast', 'Attribute|has_GoodForMeal|brunch', \n",
    "                'Attribute|has_GoodForMeal|dessert', 'Attribute|has_GoodForMeal|dinner', \n",
    "                'Attribute|has_GoodForMeal|latenight', 'Attribute|has_GoodForMeal|lunch', \n",
    "                'Attribute|has_HappyHour', 'Attribute|has_HasTV', 'Attribute|has_Music|background_music', \n",
    "                'Attribute|has_Music|dj', 'Attribute|has_Music|jukebox', 'Attribute|has_Music|karaoke', \n",
    "                'Attribute|has_Music|live', 'Attribute|has_Music|no_music', 'Attribute|has_Music|video', \n",
    "                'Attribute|has_NoiseLevel', 'Attribute|has_OutdoorSeating', 'Attribute|has_RestaurantsAttire', \n",
    "                'Attribute|has_RestaurantsDelivery', 'Attribute|has_RestaurantsGoodForGroups', \n",
    "                'Attribute|has_RestaurantsPriceRange2', 'Attribute|has_RestaurantsReservations', \n",
    "                'Attribute|has_RestaurantsTableService', 'Attribute|has_RestaurantsTakeOut', \n",
    "                'Attribute|has_Smoking', 'Attribute|has_WheelchairAccessible', 'Attribute|has_WiFi', \n",
    "                'Category|American (New)_true', 'Category|American (Traditional)_true', \n",
    "                'Category|Arts & Entertainment_true', 'Category|Asian Fusion_true', \n",
    "                'Category|Automotive_true', 'Category|Bakeries_true', 'Category|Barbeque_true', \n",
    "                'Category|Bars_true', 'Category|Beer_true', 'Category|Breakfast & Brunch_true', \n",
    "                'Category|Burgers_true', 'Category|Cafes_true', 'Category|Caterers_true', \n",
    "                'Category|Chicken Wings_true', 'Category|Chinese_true', 'Category|Cocktail Bars_true',\n",
    "                'Category|Coffee & Tea_true', 'Category|Convenience Stores_true', 'Category|Delis_true', \n",
    "                'Category|Desserts_true', 'Category|Diners_true', 'Category|Drugstores_true', \n",
    "                'Category|Event Planning & Services_true', 'Category|Fast Food_true', \n",
    "                'Category|Food Trucks_true', 'Category|Food_true', 'Category|Gas Stations_true', \n",
    "                'Category|Grocery_true', 'Category|Ice Cream & Frozen Yogurt_true', \n",
    "                'Category|Italian_true', 'Category|Japanese_true', 'Category|Juice Bars & Smoothies_true', \n",
    "                'Category|Lounges_true', 'Category|Mediterranean_true', 'Category|Mexican_true', \n",
    "                'Category|Nightlife_true', 'Category|Pizza_true', 'Category|Pubs_true', \n",
    "                'Category|Restaurants_true', 'Category|Salad_true', 'Category|Sandwiches_true', \n",
    "                'Category|Seafood_true', 'Category|Shopping_true', 'Category|Specialty Food_true', \n",
    "                'Category|Sports Bars_true', 'Category|Steakhouses_true', 'Category|Sushi Bars_true', \n",
    "                'Category|Tex-Mex_true', 'Category|Wine & Spirits_true', 'Category|Wine Bars_true']]"
   ]
  },
  {
   "cell_type": "code",
   "execution_count": 8,
   "metadata": {},
   "outputs": [
    {
     "data": {
      "text/plain": [
       "'/Users/ElliottC/g/projects/yelp/autogression/autoregression/autoregression/__init__.py'"
      ]
     },
     "execution_count": 8,
     "metadata": {},
     "output_type": "execute_result"
    }
   ],
   "source": [
    "import autoregression\n",
    "autoregression.__file__"
   ]
  },
  {
   "cell_type": "code",
   "execution_count": null,
   "metadata": {
    "collapsed": true
   },
   "outputs": [],
   "source": [
    "aut"
   ]
  },
  {
   "cell_type": "code",
   "execution_count": null,
   "metadata": {},
   "outputs": [],
   "source": [
    "autoregression.compare_predictions(df, y_var_name='closed_on_google', scatter_matrix=False, )"
   ]
  },
  {
   "cell_type": "code",
   "execution_count": null,
   "metadata": {
    "scrolled": true
   },
   "outputs": [],
   "source": [
    "confusion_matrix(y_columns, model.predict(x_columns))"
   ]
  },
  {
   "cell_type": "code",
   "execution_count": null,
   "metadata": {},
   "outputs": [],
   "source": [
    "y_true = y_test\n",
    "y_pred = model.predict(X_test)\n",
    "\n",
    "fpr, tpr, threshold = roc_curve(y_true, y_pred)\n",
    "area_under_curve = auc(fpr, tpr)\n",
    "\n",
    "# method I: plt\n",
    "fig, ax = plt.subplots()\n",
    "plt.title('Receiver Operating Characteristic')\n",
    "ax.plot(fpr, tpr, 'k', label = 'C AUC = %0.3f' % area_under_curve)\n",
    "\n",
    "ax.legend(loc = 'lower right')\n",
    "ax.plot([0, 1], [0, 1],'r--')\n",
    "plt.xlim([0, 1])\n",
    "plt.ylim([0, 1])\n",
    "plt.ylabel('True Positive Rate')\n",
    "plt.xlabel('False Positive Rate')\n",
    "plt.show();"
   ]
  },
  {
   "cell_type": "code",
   "execution_count": null,
   "metadata": {},
   "outputs": [],
   "source": [
    "area_under_curve"
   ]
  },
  {
   "cell_type": "code",
   "execution_count": null,
   "metadata": {},
   "outputs": [],
   "source": [
    "print(classification_report(y_true, y_pred))"
   ]
  },
  {
   "cell_type": "code",
   "execution_count": null,
   "metadata": {},
   "outputs": [],
   "source": [
    "plt.hist(model.predict_proba(X_test)[:,1], bins=50)"
   ]
  },
  {
   "cell_type": "code",
   "execution_count": null,
   "metadata": {},
   "outputs": [],
   "source": [
    "fig, ax = plt.subplots()\n",
    "ax.barh(features, values)\n",
    "ax.set_xlim(xmin=0)"
   ]
  },
  {
   "cell_type": "code",
   "execution_count": 109,
   "metadata": {},
   "outputs": [
    {
     "data": {
      "text/plain": [
       "array([4.56880241e-01, 1.75806922e-01, 1.33062653e-02, 1.20123662e-02,\n",
       "       7.20921712e-03, 5.13518069e-03, 6.44695735e-03, 1.57380883e-02,\n",
       "       1.71381989e-02, 6.79624548e-03, 9.29461819e-03, 1.14886290e-02,\n",
       "       1.41462688e-02, 1.69894948e-02, 1.23558078e-02, 4.45286161e-03,\n",
       "       9.28645934e-03, 8.79594563e-03, 9.07748238e-03, 7.65341985e-03,\n",
       "       7.62059145e-03, 9.28556040e-03, 1.22112128e-02, 9.56151974e-03,\n",
       "       4.78805029e-03, 3.72238795e-03, 7.59872177e-03, 5.81751153e-03,\n",
       "       1.05156371e-02, 2.84911415e-03, 2.23054874e-03, 4.15040083e-03,\n",
       "       9.25135058e-03, 9.06519631e-03, 1.69981159e-03, 3.79618952e-03,\n",
       "       8.79523731e-03, 1.05094490e-02, 5.34740641e-03, 7.06025427e-03,\n",
       "       4.14262022e-03, 7.55826941e-03, 6.41992481e-03, 4.49822263e-03,\n",
       "       3.93651628e-03, 5.57332190e-04, 1.78897956e-04, 2.44034681e-03,\n",
       "       5.63931602e-03, 4.29574794e-03, 2.74108014e-03, 1.70490327e-03])"
      ]
     },
     "execution_count": 109,
     "metadata": {},
     "output_type": "execute_result"
    }
   ],
   "source": [
    "model.feature_importances_"
   ]
  },
  {
   "cell_type": "code",
   "execution_count": null,
   "metadata": {},
   "outputs": [],
   "source": [
    "features = [feature[0] for feature in top_features]\n",
    "values = [feature[1] for feature in top_features]"
   ]
  },
  {
   "cell_type": "code",
   "execution_count": 155,
   "metadata": {},
   "outputs": [
    {
     "data": {
      "text/plain": [
       "array([0. , 0.1, 0.2, 0.3, 0.4, 0.5, 0.6, 0.7, 0.8, 0.9])"
      ]
     },
     "execution_count": 155,
     "metadata": {},
     "output_type": "execute_result"
    }
   ],
   "source": [
    "np.arange(0,1,.1)"
   ]
  },
  {
   "cell_type": "code",
   "execution_count": null,
   "metadata": {},
   "outputs": [],
   "source": [
    "np.array(top_features)[:,0]"
   ]
  },
  {
   "cell_type": "code",
   "execution_count": null,
   "metadata": {},
   "outputs": [],
   "source": [
    "x_columns.columns[0]"
   ]
  },
  {
   "cell_type": "code",
   "execution_count": null,
   "metadata": {
    "collapsed": true
   },
   "outputs": [],
   "source": [
    "feature_values = {}\n",
    "for i in range(len(model.feature_importances_)):\n",
    "    feature_values[x_columns.columns[i]] = model.feature_importances_[i]"
   ]
  },
  {
   "cell_type": "code",
   "execution_count": null,
   "metadata": {},
   "outputs": [],
   "source": [
    "top_features = sorted(feature_values.items(), key=lambda x: x[1], reverse=True)[:10]"
   ]
  },
  {
   "cell_type": "code",
   "execution_count": null,
   "metadata": {},
   "outputs": [],
   "source": [
    "fig, ax = plt.subplots()"
   ]
  },
  {
   "cell_type": "code",
   "execution_count": null,
   "metadata": {},
   "outputs": [],
   "source": [
    "chart_features = np.array(top_features)[:,0] \n",
    "chart_values = np.array(top_features)[:,1]"
   ]
  },
  {
   "cell_type": "code",
   "execution_count": null,
   "metadata": {},
   "outputs": [],
   "source": [
    "fig, ax = plt.subplots()\n",
    "ax.barh(chart_features, chart_values)"
   ]
  },
  {
   "cell_type": "code",
   "execution_count": null,
   "metadata": {
    "collapsed": true
   },
   "outputs": [],
   "source": []
  }
 ],
 "metadata": {
  "kernelspec": {
   "display_name": "Python 3",
   "language": "python",
   "name": "python3"
  },
  "language_info": {
   "codemirror_mode": {
    "name": "ipython",
    "version": 3
   },
   "file_extension": ".py",
   "mimetype": "text/x-python",
   "name": "python",
   "nbconvert_exporter": "python",
   "pygments_lexer": "ipython3",
   "version": "3.6.3"
  }
 },
 "nbformat": 4,
 "nbformat_minor": 2
}
