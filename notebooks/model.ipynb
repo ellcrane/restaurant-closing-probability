{
 "cells": [
  {
   "cell_type": "code",
   "execution_count": 280,
   "metadata": {
    "collapsed": true
   },
   "outputs": [],
   "source": [
    "import pandas as pd\n",
    "import numpy as np\n",
    "from sklearn.model_selection import train_test_split, cross_val_score\n",
    "from sklearn.ensemble import RandomForestClassifier, GradientBoostingClassifier\n",
    "from sklearn.metrics import confusion_matrix, roc_curve, auc, classification_report\n",
    "from sklearn.linear_model import LogisticRegression\n",
    "import autoregression\n",
    "import matplotlib.pyplot as plt\n",
    "from collections import Counter\n",
    "%matplotlib inline"
   ]
  },
  {
   "cell_type": "code",
   "execution_count": 49,
   "metadata": {
    "collapsed": true
   },
   "outputs": [],
   "source": [
    "df = pd.read_csv('/Users/ElliottC/g/projects/yelp/predicting_restaurant_closure/data/featurized_dataframe.csv')"
   ]
  },
  {
   "cell_type": "code",
   "execution_count": 172,
   "metadata": {
    "collapsed": true
   },
   "outputs": [],
   "source": [
    "yelp_columns = ['restaurant_count','review_count','stars',\n",
    "    'Attribute|has_Alcohol', 'Attribute|has_Ambience|casual', 'Attribute|has_Ambience|classy', \n",
    "                'Attribute|has_Ambience|divey', 'Attribute|has_Ambience|hipster', \n",
    "                'Attribute|has_Ambience|intimate', 'Attribute|has_Ambience|romantic', \n",
    "                'Attribute|has_Ambience|touristy', 'Attribute|has_Ambience|trendy', \n",
    "                'Attribute|has_Ambience|upscale', 'Attribute|has_BikeParking', \n",
    "                'Attribute|has_BusinessAcceptsCreditCards', 'Attribute|has_BusinessParking|garage', \n",
    "                'Attribute|has_BusinessParking|lot', 'Attribute|has_BusinessParking|street', \n",
    "                'Attribute|has_BusinessParking|valet', 'Attribute|has_BusinessParking|validated', \n",
    "                'Attribute|has_Caters', 'Attribute|has_CoatCheck', 'Attribute|has_DogsAllowed', \n",
    "                'Attribute|has_DriveThru', 'Attribute|has_GoodForDancing', 'Attribute|has_GoodForKids', \n",
    "                'Attribute|has_GoodForMeal|breakfast', 'Attribute|has_GoodForMeal|brunch', \n",
    "                'Attribute|has_GoodForMeal|dessert', 'Attribute|has_GoodForMeal|dinner', \n",
    "                'Attribute|has_GoodForMeal|latenight', 'Attribute|has_GoodForMeal|lunch', \n",
    "                'Attribute|has_HappyHour', 'Attribute|has_HasTV', 'Attribute|has_Music|background_music', \n",
    "                'Attribute|has_Music|dj', 'Attribute|has_Music|jukebox', 'Attribute|has_Music|karaoke', \n",
    "                'Attribute|has_Music|live', 'Attribute|has_Music|no_music', 'Attribute|has_Music|video', \n",
    "                'Attribute|has_NoiseLevel', 'Attribute|has_OutdoorSeating', 'Attribute|has_RestaurantsAttire', \n",
    "                'Attribute|has_RestaurantsDelivery', 'Attribute|has_RestaurantsGoodForGroups', \n",
    "                'Attribute|has_RestaurantsPriceRange2', 'Attribute|has_RestaurantsReservations', \n",
    "                'Attribute|has_RestaurantsTableService', 'Attribute|has_RestaurantsTakeOut', \n",
    "                'Attribute|has_Smoking', 'Attribute|has_WheelchairAccessible', 'Attribute|has_WiFi', \n",
    "                'Category|American (New)_true', 'Category|American (Traditional)_true', \n",
    "                'Category|Arts & Entertainment_true', 'Category|Asian Fusion_true', \n",
    "                'Category|Automotive_true', 'Category|Bakeries_true', 'Category|Barbeque_true', \n",
    "                'Category|Bars_true', 'Category|Beer_true', 'Category|Breakfast & Brunch_true', \n",
    "                'Category|Burgers_true', 'Category|Cafes_true', 'Category|Caterers_true', \n",
    "                'Category|Chicken Wings_true', 'Category|Chinese_true', 'Category|Cocktail Bars_true',\n",
    "                'Category|Coffee & Tea_true', 'Category|Convenience Stores_true', 'Category|Delis_true', \n",
    "                'Category|Desserts_true', 'Category|Diners_true', 'Category|Drugstores_true', \n",
    "                'Category|Event Planning & Services_true', 'Category|Fast Food_true', \n",
    "                'Category|Food Trucks_true', 'Category|Food_true', 'Category|Gas Stations_true', \n",
    "                'Category|Grocery_true', 'Category|Ice Cream & Frozen Yogurt_true', \n",
    "                'Category|Italian_true', 'Category|Japanese_true', 'Category|Juice Bars & Smoothies_true', \n",
    "                'Category|Lounges_true', 'Category|Mediterranean_true', 'Category|Mexican_true', \n",
    "                'Category|Nightlife_true', 'Category|Pizza_true', 'Category|Pubs_true', \n",
    "                'Category|Restaurants_true', 'Category|Salad_true', 'Category|Sandwiches_true', \n",
    "                'Category|Seafood_true', 'Category|Shopping_true', 'Category|Specialty Food_true', \n",
    "                'Category|Sports Bars_true', 'Category|Steakhouses_true', 'Category|Sushi Bars_true', \n",
    "                'Category|Tex-Mex_true', 'Category|Wine & Spirits_true', 'Category|Wine Bars_true']\n",
    "\n",
    "census_columns = ['2016 ACS 5-Year Population Estimate',\n",
    "                 'American Indian and Alaska Native alone',\n",
    "                 'Asian alone',\n",
    "                 'Black or African American alone',\n",
    "                 'Census 2010 Total Population',\n",
    "                 'Educational Attainment: Percent high school graduate or higher',\n",
    "                 'Foreign Born Population',\n",
    "                 'Hispanic or Latino (of any race)',\n",
    "                 'Individuals below poverty level',\n",
    "                 'Median Age',\n",
    "                 'Median Household Income',\n",
    "                 'Native Hawaiian and Other Pacific Islander alone',\n",
    "                 'Some Other Race alone',\n",
    "                 'Total housing units',\n",
    "                 'Two or More Races',\n",
    "                 'Veterans',\n",
    "                 'White alone',\n",
    "                 'White alone, Not Hispanic or Latino']\n",
    "\n",
    "x_columns = df[yelp_columns + census_columns]\n",
    "\n",
    "y_true = df[['closed_on_google']]"
   ]
  },
  {
   "cell_type": "code",
   "execution_count": null,
   "metadata": {
    "collapsed": true
   },
   "outputs": [],
   "source": [
    "x_columns = x_columns.reshape(19734,)\n",
    "y_true = y_true.reshape()"
   ]
  },
  {
   "cell_type": "code",
   "execution_count": 137,
   "metadata": {
    "collapsed": true
   },
   "outputs": [],
   "source": [
    "y_true = np.array(y_true).reshape(19734,1)"
   ]
  },
  {
   "cell_type": "code",
   "execution_count": 173,
   "metadata": {},
   "outputs": [],
   "source": [
    "X_train, X_test, y_train, y_test = train_test_split(x_columns, y_true, test_size=0.33, random_state=42)"
   ]
  },
  {
   "cell_type": "code",
   "execution_count": 136,
   "metadata": {},
   "outputs": [
    {
     "data": {
      "text/plain": [
       "(19734, 1)"
      ]
     },
     "execution_count": 136,
     "metadata": {},
     "output_type": "execute_result"
    }
   ],
   "source": [
    "y_true.shape"
   ]
  },
  {
   "cell_type": "code",
   "execution_count": 316,
   "metadata": {},
   "outputs": [
    {
     "name": "stderr",
     "output_type": "stream",
     "text": [
      "/Users/ElliottC/anaconda3/lib/python3.6/site-packages/ipykernel_launcher.py:2: DataConversionWarning: A column-vector y was passed when a 1d array was expected. Please change the shape of y to (n_samples,), for example using ravel().\n",
      "  \n"
     ]
    },
    {
     "data": {
      "text/plain": [
       "RandomForestClassifier(bootstrap=True, class_weight=None, criterion='gini',\n",
       "            max_depth=None, max_features='auto', max_leaf_nodes=None,\n",
       "            min_impurity_decrease=0.0, min_impurity_split=None,\n",
       "            min_samples_leaf=1, min_samples_split=2,\n",
       "            min_weight_fraction_leaf=0.0, n_estimators=100, n_jobs=1,\n",
       "            oob_score=False, random_state=None, verbose=0,\n",
       "            warm_start=False)"
      ]
     },
     "execution_count": 316,
     "metadata": {},
     "output_type": "execute_result"
    }
   ],
   "source": [
    "model = RandomForestClassifier(n_estimators=100)\n",
    "model.fit(X_train, y_train)"
   ]
  },
  {
   "cell_type": "code",
   "execution_count": 142,
   "metadata": {},
   "outputs": [
    {
     "data": {
      "text/plain": [
       "(13221, 1)"
      ]
     },
     "execution_count": 142,
     "metadata": {},
     "output_type": "execute_result"
    }
   ],
   "source": [
    "y_train.shape"
   ]
  },
  {
   "cell_type": "code",
   "execution_count": 313,
   "metadata": {},
   "outputs": [
    {
     "name": "stderr",
     "output_type": "stream",
     "text": [
      "/Users/ElliottC/anaconda3/lib/python3.6/site-packages/sklearn/utils/validation.py:578: DataConversionWarning: A column-vector y was passed when a 1d array was expected. Please change the shape of y to (n_samples, ), for example using ravel().\n",
      "  y = column_or_1d(y, warn=True)\n"
     ]
    },
    {
     "data": {
      "text/plain": [
       "GradientBoostingClassifier(criterion='friedman_mse', init=None,\n",
       "              learning_rate=0.1, loss='deviance', max_depth=3,\n",
       "              max_features=None, max_leaf_nodes=None,\n",
       "              min_impurity_decrease=0.0, min_impurity_split=None,\n",
       "              min_samples_leaf=1, min_samples_split=2,\n",
       "              min_weight_fraction_leaf=0.0, n_estimators=100,\n",
       "              presort='auto', random_state=None, subsample=1.0, verbose=0,\n",
       "              warm_start=False)"
      ]
     },
     "execution_count": 313,
     "metadata": {},
     "output_type": "execute_result"
    }
   ],
   "source": [
    "model = GradientBoostingClassifier()\n",
    "model.fit(X_train, y_train)"
   ]
  },
  {
   "cell_type": "code",
   "execution_count": 306,
   "metadata": {},
   "outputs": [
    {
     "name": "stderr",
     "output_type": "stream",
     "text": [
      "/Users/ElliottC/anaconda3/lib/python3.6/site-packages/sklearn/utils/validation.py:578: DataConversionWarning: A column-vector y was passed when a 1d array was expected. Please change the shape of y to (n_samples, ), for example using ravel().\n",
      "  y = column_or_1d(y, warn=True)\n"
     ]
    },
    {
     "data": {
      "text/plain": [
       "LogisticRegression(C=1.0, class_weight=None, dual=False, fit_intercept=True,\n",
       "          intercept_scaling=1, max_iter=100, multi_class='ovr', n_jobs=1,\n",
       "          penalty='l2', random_state=None, solver='liblinear', tol=0.0001,\n",
       "          verbose=0, warm_start=False)"
      ]
     },
     "execution_count": 306,
     "metadata": {},
     "output_type": "execute_result"
    }
   ],
   "source": [
    "model = LogisticRegression()\n",
    "model.fit(X_train, y_train)"
   ]
  },
  {
   "cell_type": "code",
   "execution_count": 317,
   "metadata": {},
   "outputs": [
    {
     "data": {
      "image/png": "[encoded data removed]",
      "text/plain": [
       "<matplotlib.figure.Figure at 0x1a20a9a5c0>"
      ]
     },
     "metadata": {},
     "output_type": "display_data"
    }
   ],
   "source": [
    "y_true = y_test\n",
    "x_columns = X_test\n",
    "\n",
    "y_pred = model.predict_proba(x_columns)\n",
    "\n",
    "fpr, tpr, threshold = roc_curve(y_true, y_pred[:,1])\n",
    "area_under_curve = auc(fpr, tpr)\n",
    "\n",
    "# method I: plt\n",
    "fig, ax = plt.subplots()\n",
    "plt.title('Receiver Operating Characteristic')\n",
    "ax.plot(fpr, tpr, 'k', label = 'C AUC = %0.3f' % area_under_curve)\n",
    "\n",
    "ax.legend(loc = 'lower right')\n",
    "ax.plot([0, 1], [0, 1],'r--')\n",
    "plt.xlim([0, 1])\n",
    "plt.ylim([0, 1])\n",
    "plt.ylabel('True Positive Rate')\n",
    "plt.xlabel('False Positive Rate')\n",
    "plt.show();"
   ]
  },
  {
   "cell_type": "code",
   "execution_count": 307,
   "metadata": {
    "collapsed": true
   },
   "outputs": [],
   "source": [
    "feature_importances = dict(zip(list(x_columns.columns), list(model.coef_[0])))"
   ]
  },
  {
   "cell_type": "code",
   "execution_count": 312,
   "metadata": {},
   "outputs": [
    {
     "data": {
      "text/plain": [
       "array(dict_values([-0.014679197964188557, -0.0027571686037191514, -0.10186302028418913, -0.019640502321069335, -0.017207901471147983, -0.017207901471147983, -0.017046682649769867, -0.017207901471147983, -0.017207901471147983, -0.017207901471147983, -0.017207901471147983, -0.017207901471147983, -0.017207901471147983, -0.03940881619236759, -0.02293727887570852, -0.024796088488173277, -0.024796088488173277, -0.024796088488173277, -0.024796088488173277, -0.024634869666795168, -0.020836284247472026, -0.00631221611141189, 0.0009695343604290249, -0.0023000343619569924, -0.007912050319614984, -0.008111424414662196, -0.011817084946696534, -0.011817084946696534, -0.011817084946696534, -0.011817084946696534, -0.011817084946696534, -0.011817084946696534, -0.007162173516262143, -0.016530889372178007, -0.006247107200103724, -0.006247107200103724, -0.006247107200103724, -0.006247107200103724, -0.006247107200103724, -0.006247107200103724, -0.006247107200103724, -0.011429119015608615, -0.011771166982614474, -0.009338994859214491, -0.011305465245301745, -0.012957004797199993, -0.026544244625192982, -0.01475031418577855, -0.008248101937951318, -0.02014005345042164, -0.005803381929793166, -0.005433843075238194, -0.013804015910699326, -0.0011212877639842139, -0.0030425259191359613, -4.249980892913693e-05, 0.0034768200431821786, -0.0035220921595271204, 0.0006346756255241783, 0.0025795771767926764, -0.007679361344767772, -0.004341085800662511, 0.0009204316264827712, -0.001199228721244893, 0.0003409529216499766, -0.0005284513416708081, -0.0034806615179062994, -0.003948154899152435, -0.0016841831965344395, 0.0054676425829360735, -0.003924183338678432, -0.0024697016597748727, 0.004675089098874119, -0.000841015785592566, -0.0023383025095604706, -0.002105914929999435, -0.0022394103419249045, -6.506522885660554e-05, -0.0022167773490078995, -0.0031926464367197428, -0.008188478727191735, 0.0017688726049196306, -0.0014056810040951437, 0.0012758304480591095, -0.001044631353304005, -0.0017879204487836959, 0.005703967591627003, 0.00022618702627573298, -0.007855151901533018, -0.004601245857533128, -0.0026225902725131077, -0.0053482727877016785, -0.00025530490409456314, 0.0010654228494960062, -0.0013763310491110283, -0.002332774140935851, -0.000964619109247418, -0.001333732817283286, -0.00163918892812015, -0.0011586552414001256, 0.0008114784147328266, -0.004341085800662511, 0.0013789433216632248, -0.00022481058084327995, 0.00022808976269583146, 0.0002846073850324124, 0.0002256792621895961, -8.32138420647517e-05, -0.00579220878044593, 4.98287860850613e-05, 0.0002948627743388816, -0.0033752191638662574, -0.05723989149827127, -5.224079951350301e-06, -0.0009946533106036629, -3.4340779335622925e-05, 8.287424052327516e-05, 0.00018032437762811806, 0.00041076631102907404, -0.00011451728622345893, 0.00035397333256246573]),\n",
       "      dtype=object)"
      ]
     },
     "execution_count": 312,
     "metadata": {},
     "output_type": "execute_result"
    }
   ],
   "source": [
    "np.array(feature_importances.values())"
   ]
  },
  {
   "cell_type": "code",
   "execution_count": 278,
   "metadata": {},
   "outputs": [],
   "source": [
    "logistic_importances = dict(zip(list(x_columns.columns), list(model.feature_importances_)))"
   ]
  },
  {
   "cell_type": "code",
   "execution_count": 279,
   "metadata": {},
   "outputs": [
    {
     "data": {
      "text/plain": [
       "{'2016 ACS 5-Year Population Estimate': 0.01996612040164029,\n",
       " 'American Indian and Alaska Native alone': 0.023515067000338154,\n",
       " 'Asian alone': 0.0178978265230705,\n",
       " 'Attribute|has_Alcohol': 0.004566759818570165,\n",
       " 'Attribute|has_Ambience|casual': 0.00225471896580039,\n",
       " 'Attribute|has_Ambience|classy': 0.0007081506992045379,\n",
       " 'Attribute|has_Ambience|divey': 0.0022921727808608286,\n",
       " 'Attribute|has_Ambience|hipster': 0.003584533885762719,\n",
       " 'Attribute|has_Ambience|intimate': 0.003978920140460055,\n",
       " 'Attribute|has_Ambience|romantic': 0.0013165206346573565,\n",
       " 'Attribute|has_Ambience|touristy': 0.001289475989598741,\n",
       " 'Attribute|has_Ambience|trendy': 0.0013272083741129156,\n",
       " 'Attribute|has_Ambience|upscale': 0.0017314768506114867,\n",
       " 'Attribute|has_BikeParking': 0.007205678691389258,\n",
       " 'Attribute|has_BusinessAcceptsCreditCards': 0.001964083378383265,\n",
       " 'Attribute|has_BusinessParking|garage': 0.004060973726992212,\n",
       " 'Attribute|has_BusinessParking|lot': 0.004616839507665905,\n",
       " 'Attribute|has_BusinessParking|street': 0.003951425035994583,\n",
       " 'Attribute|has_BusinessParking|valet': 0.002625366509268693,\n",
       " 'Attribute|has_BusinessParking|validated': 0.002883150327881199,\n",
       " 'Attribute|has_Caters': 0.015627973256876364,\n",
       " 'Attribute|has_CoatCheck': 0.003714347301995935,\n",
       " 'Attribute|has_DogsAllowed': 0.012970399932293384,\n",
       " 'Attribute|has_DriveThru': 0.006625754289673909,\n",
       " 'Attribute|has_GoodForDancing': 0.0021021626624407276,\n",
       " 'Attribute|has_GoodForKids': 0.003367203506611051,\n",
       " 'Attribute|has_GoodForMeal|breakfast': 0.002303940330261223,\n",
       " 'Attribute|has_GoodForMeal|brunch': 0.0031342141483015284,\n",
       " 'Attribute|has_GoodForMeal|dessert': 0.003226280961699543,\n",
       " 'Attribute|has_GoodForMeal|dinner': 0.0028378929510145846,\n",
       " 'Attribute|has_GoodForMeal|latenight': 0.002265297204164382,\n",
       " 'Attribute|has_GoodForMeal|lunch': 0.0028869273256215077,\n",
       " 'Attribute|has_HappyHour': 0.002250796043175842,\n",
       " 'Attribute|has_HasTV': 0.0027992925735732524,\n",
       " 'Attribute|has_Music|background_music': 0.0012967567578447761,\n",
       " 'Attribute|has_Music|dj': 0.0030408929055135373,\n",
       " 'Attribute|has_Music|jukebox': 0.0027259300396818035,\n",
       " 'Attribute|has_Music|karaoke': 0.002710642106135519,\n",
       " 'Attribute|has_Music|live': 0.0034316725917336774,\n",
       " 'Attribute|has_Music|no_music': 0.002184074200114421,\n",
       " 'Attribute|has_Music|video': 0.0013581325025545591,\n",
       " 'Attribute|has_NoiseLevel': 0.004621790282093025,\n",
       " 'Attribute|has_OutdoorSeating': 0.004187400764665503,\n",
       " 'Attribute|has_RestaurantsAttire': 0.0037496380306122233,\n",
       " 'Attribute|has_RestaurantsDelivery': 0.003798271698371908,\n",
       " 'Attribute|has_RestaurantsGoodForGroups': 0.002442420799948624,\n",
       " 'Attribute|has_RestaurantsPriceRange2': 0.0042383073225209095,\n",
       " 'Attribute|has_RestaurantsReservations': 0.003919588646036609,\n",
       " 'Attribute|has_RestaurantsTableService': 0.0037514480705847287,\n",
       " 'Attribute|has_RestaurantsTakeOut': 0.009577571667178337,\n",
       " 'Attribute|has_Smoking': 0.002234476165866526,\n",
       " 'Attribute|has_WheelchairAccessible': 0.022515245568725323,\n",
       " 'Attribute|has_WiFi': 0.010565241114636728,\n",
       " 'Black or African American alone': 0.022926641636384477,\n",
       " 'Category|American (New)_true': 0.007408084232706375,\n",
       " 'Category|American (Traditional)_true': 0.012808053957138452,\n",
       " 'Category|Arts & Entertainment_true': 0.002792381415879483,\n",
       " 'Category|Asian Fusion_true': 0.004269965188056319,\n",
       " 'Category|Automotive_true': 0.00033564066665149535,\n",
       " 'Category|Bakeries_true': 0.0052779580227113355,\n",
       " 'Category|Barbeque_true': 0.005239921035113059,\n",
       " 'Category|Bars_true': 0.00591707800236877,\n",
       " 'Category|Beer_true': 0.005062703500217583,\n",
       " 'Category|Breakfast & Brunch_true': 0.0067567029317699475,\n",
       " 'Category|Burgers_true': 0.004916692568437872,\n",
       " 'Category|Cafes_true': 0.004718752958774954,\n",
       " 'Category|Caterers_true': 0.0034689734786459586,\n",
       " 'Category|Chicken Wings_true': 0.0035791468012145882,\n",
       " 'Category|Chinese_true': 0.00505096259321229,\n",
       " 'Category|Cocktail Bars_true': 0.0017192688730629801,\n",
       " 'Category|Coffee & Tea_true': 0.008952676187903519,\n",
       " 'Category|Convenience Stores_true': 0.003084779339102563,\n",
       " 'Category|Delis_true': 0.0021485791383116736,\n",
       " 'Category|Desserts_true': 0.008188795590578127,\n",
       " 'Category|Diners_true': 0.002363942330590284,\n",
       " 'Category|Drugstores_true': 0.0004986935451475702,\n",
       " 'Category|Event Planning & Services_true': 0.006851551975179298,\n",
       " 'Category|Fast Food_true': 0.00497408848950405,\n",
       " 'Category|Food Trucks_true': 0.001967420893714753,\n",
       " 'Category|Food_true': 0.012624377761091102,\n",
       " 'Category|Gas Stations_true': 0.0006278354217393572,\n",
       " 'Category|Grocery_true': 0.0030314148846939106,\n",
       " 'Category|Ice Cream & Frozen Yogurt_true': 0.007301686777478519,\n",
       " 'Category|Italian_true': 0.005597958071292158,\n",
       " 'Category|Japanese_true': 0.005112358067752994,\n",
       " 'Category|Juice Bars & Smoothies_true': 0.005445744505466419,\n",
       " 'Category|Lounges_true': 0.002934751912251659,\n",
       " 'Category|Mediterranean_true': 0.009829961012967282,\n",
       " 'Category|Mexican_true': 0.008560057513749468,\n",
       " 'Category|Nightlife_true': 0.004351150713827042,\n",
       " 'Category|Pizza_true': 0.007543877895567372,\n",
       " 'Category|Pubs_true': 0.002280899639782696,\n",
       " 'Category|Restaurants_true': 0.005441005169591525,\n",
       " 'Category|Salad_true': 0.005205238115621598,\n",
       " 'Category|Sandwiches_true': 0.009410314659934383,\n",
       " 'Category|Seafood_true': 0.004795055482120694,\n",
       " 'Category|Shopping_true': 0.00483632637724994,\n",
       " 'Category|Specialty Food_true': 0.005749029756297614,\n",
       " 'Category|Sports Bars_true': 0.0035170052593006713,\n",
       " 'Category|Steakhouses_true': 0.0009834940966156522,\n",
       " 'Category|Sushi Bars_true': 0.0013349716313057237,\n",
       " 'Category|Tex-Mex_true': 0.003271360421675954,\n",
       " 'Category|Wine & Spirits_true': 0.003705977291255754,\n",
       " 'Category|Wine Bars_true': 0.0016169882207207665,\n",
       " 'Census 2010 Total Population': 0.021975701408918826,\n",
       " 'Educational Attainment: Percent high school graduate or higher': 0.018039537114519038,\n",
       " 'Foreign Born Population': 0.017996910539865116,\n",
       " 'Hispanic or Latino (of any race)': 0.01852893076317529,\n",
       " 'Individuals below poverty level': 0.018370730417972485,\n",
       " 'Median Age': 0.018981801535540098,\n",
       " 'Median Household Income': 0.020907631599210597,\n",
       " 'Native Hawaiian and Other Pacific Islander alone': 0.014347418860002884,\n",
       " 'Some Other Race alone': 0.019104697197391402,\n",
       " 'Total housing units': 0.019328027087570882,\n",
       " 'Two or More Races': 0.021928297928710535,\n",
       " 'Veterans': 0.019238789413483195,\n",
       " 'White alone': 0.019480558126334903,\n",
       " 'White alone, Not Hispanic or Latino': 0.020791197591499062,\n",
       " 'restaurant_count': 0.033329840089059405,\n",
       " 'review_count': 0.09906427607105452,\n",
       " 'stars': 0.061998905279178576}"
      ]
     },
     "execution_count": 279,
     "metadata": {},
     "output_type": "execute_result"
    }
   ],
   "source": [
    "logistic_importances"
   ]
  },
  {
   "cell_type": "code",
   "execution_count": 292,
   "metadata": {},
   "outputs": [],
   "source": [
    "def get_top_features(model, n_features):\n",
    "    if type(model)==LogisticRegression:\n",
    "        feature_importances = dict(zip(list(x_columns.columns), list(model.coef_[0])))\n",
    "    elif type(model) in [GradientBoostingClassifier, RandomForestClassifier]:\n",
    "        feature_importances = {}\n",
    "        for i in range(len(model.feature_importances_)):\n",
    "            feature_importances[x_columns.columns[i]] = model.feature_importances_[i]\n",
    "    top_features = Counter(feature_importances).most_common(n_features)\n",
    "    features = [feature[0] for feature in top_features]\n",
    "    values = [feature[1] for feature in top_features]\n",
    "    return features, values"
   ]
  },
  {
   "cell_type": "code",
   "execution_count": null,
   "metadata": {
    "collapsed": true
   },
   "outputs": [],
   "source": [
    "feature_importances = dict(zip(list(x_columns.columns), list(model.coef_[0])))"
   ]
  },
  {
   "cell_type": "code",
   "execution_count": 322,
   "metadata": {},
   "outputs": [],
   "source": [
    "top_features, values = get_top_features(model, 100)"
   ]
  },
  {
   "cell_type": "code",
   "execution_count": 288,
   "metadata": {
    "collapsed": true
   },
   "outputs": [],
   "source": [
    "features = [feature[0] for feature in top_features]\n",
    "values = [feature[1] for feature in top_features]"
   ]
  },
  {
   "cell_type": "code",
   "execution_count": 224,
   "metadata": {},
   "outputs": [],
   "source": [
    "feature_values = {}\n",
    "for i in range(len(model.coef_)):\n",
    "    feature_values[x_columns.columns[i]] = model.coef_[i]"
   ]
  },
  {
   "cell_type": "code",
   "execution_count": 324,
   "metadata": {},
   "outputs": [],
   "source": [
    "features = [feature[0] for feature in top_features]\n",
    "values = [feature[1] for feature in top_features]"
   ]
  },
  {
   "cell_type": "code",
   "execution_count": 325,
   "metadata": {},
   "outputs": [
    {
     "ename": "TypeError",
     "evalue": "Empty 'DataFrame': no numeric data to plot",
     "output_type": "error",
     "traceback": [
      "\u001b[0;31m---------------------------------------------------------------------------\u001b[0m",
      "\u001b[0;31mTypeError\u001b[0m                                 Traceback (most recent call last)",
      "\u001b[0;32m<ipython-input-325-c2b49567f888>\u001b[0m in \u001b[0;36m<module>\u001b[0;34m()\u001b[0m\n\u001b[1;32m      1\u001b[0m \u001b[0mdf\u001b[0m \u001b[0;34m=\u001b[0m \u001b[0mpd\u001b[0m\u001b[0;34m.\u001b[0m\u001b[0mDataFrame\u001b[0m\u001b[0;34m(\u001b[0m\u001b[0mlist\u001b[0m\u001b[0;34m(\u001b[0m\u001b[0mzip\u001b[0m\u001b[0;34m(\u001b[0m\u001b[0mvalues\u001b[0m\u001b[0;34m,\u001b[0m\u001b[0mfeatures\u001b[0m\u001b[0;34m)\u001b[0m\u001b[0;34m)\u001b[0m\u001b[0;34m)\u001b[0m\u001b[0;34m.\u001b[0m\u001b[0mset_index\u001b[0m\u001b[0;34m(\u001b[0m\u001b[0;36m1\u001b[0m\u001b[0;34m)\u001b[0m\u001b[0;34m.\u001b[0m\u001b[0msort_values\u001b[0m\u001b[0;34m(\u001b[0m\u001b[0;36m0\u001b[0m\u001b[0;34m)\u001b[0m\u001b[0;34m\u001b[0m\u001b[0m\n\u001b[1;32m      2\u001b[0m \u001b[0;34m\u001b[0m\u001b[0m\n\u001b[0;32m----> 3\u001b[0;31m \u001b[0mdf\u001b[0m\u001b[0;34m.\u001b[0m\u001b[0mplot\u001b[0m\u001b[0;34m.\u001b[0m\u001b[0mbarh\u001b[0m\u001b[0;34m(\u001b[0m\u001b[0mfigsize\u001b[0m\u001b[0;34m=\u001b[0m\u001b[0;34m(\u001b[0m\u001b[0;36m10\u001b[0m\u001b[0;34m,\u001b[0m\u001b[0;36m10\u001b[0m\u001b[0;34m)\u001b[0m\u001b[0;34m)\u001b[0m\u001b[0;34m\u001b[0m\u001b[0m\n\u001b[0m",
      "\u001b[0;32m~/anaconda3/lib/python3.6/site-packages/pandas/plotting/_core.py\u001b[0m in \u001b[0;36mbarh\u001b[0;34m(self, x, y, **kwds)\u001b[0m\n\u001b[1;32m   2733\u001b[0m         \u001b[0maxes\u001b[0m \u001b[0;34m:\u001b[0m \u001b[0mmatplotlib\u001b[0m\u001b[0;34m.\u001b[0m\u001b[0mAxesSubplot\u001b[0m \u001b[0;32mor\u001b[0m \u001b[0mnp\u001b[0m\u001b[0;34m.\u001b[0m\u001b[0marray\u001b[0m \u001b[0mof\u001b[0m \u001b[0mthem\u001b[0m\u001b[0;34m\u001b[0m\u001b[0m\n\u001b[1;32m   2734\u001b[0m         \"\"\"\n\u001b[0;32m-> 2735\u001b[0;31m         \u001b[0;32mreturn\u001b[0m \u001b[0mself\u001b[0m\u001b[0;34m(\u001b[0m\u001b[0mkind\u001b[0m\u001b[0;34m=\u001b[0m\u001b[0;34m'barh'\u001b[0m\u001b[0;34m,\u001b[0m \u001b[0mx\u001b[0m\u001b[0;34m=\u001b[0m\u001b[0mx\u001b[0m\u001b[0;34m,\u001b[0m \u001b[0my\u001b[0m\u001b[0;34m=\u001b[0m\u001b[0my\u001b[0m\u001b[0;34m,\u001b[0m \u001b[0;34m**\u001b[0m\u001b[0mkwds\u001b[0m\u001b[0;34m)\u001b[0m\u001b[0;34m\u001b[0m\u001b[0m\n\u001b[0m\u001b[1;32m   2736\u001b[0m \u001b[0;34m\u001b[0m\u001b[0m\n\u001b[1;32m   2737\u001b[0m     \u001b[0;32mdef\u001b[0m \u001b[0mbox\u001b[0m\u001b[0;34m(\u001b[0m\u001b[0mself\u001b[0m\u001b[0;34m,\u001b[0m \u001b[0mby\u001b[0m\u001b[0;34m=\u001b[0m\u001b[0;32mNone\u001b[0m\u001b[0;34m,\u001b[0m \u001b[0;34m**\u001b[0m\u001b[0mkwds\u001b[0m\u001b[0;34m)\u001b[0m\u001b[0;34m:\u001b[0m\u001b[0;34m\u001b[0m\u001b[0m\n",
      "\u001b[0;32m~/anaconda3/lib/python3.6/site-packages/pandas/plotting/_core.py\u001b[0m in \u001b[0;36m__call__\u001b[0;34m(self, x, y, kind, ax, subplots, sharex, sharey, layout, figsize, use_index, title, grid, legend, style, logx, logy, loglog, xticks, yticks, xlim, ylim, rot, fontsize, colormap, table, yerr, xerr, secondary_y, sort_columns, **kwds)\u001b[0m\n\u001b[1;32m   2675\u001b[0m                           \u001b[0mfontsize\u001b[0m\u001b[0;34m=\u001b[0m\u001b[0mfontsize\u001b[0m\u001b[0;34m,\u001b[0m \u001b[0mcolormap\u001b[0m\u001b[0;34m=\u001b[0m\u001b[0mcolormap\u001b[0m\u001b[0;34m,\u001b[0m \u001b[0mtable\u001b[0m\u001b[0;34m=\u001b[0m\u001b[0mtable\u001b[0m\u001b[0;34m,\u001b[0m\u001b[0;34m\u001b[0m\u001b[0m\n\u001b[1;32m   2676\u001b[0m                           \u001b[0myerr\u001b[0m\u001b[0;34m=\u001b[0m\u001b[0myerr\u001b[0m\u001b[0;34m,\u001b[0m \u001b[0mxerr\u001b[0m\u001b[0;34m=\u001b[0m\u001b[0mxerr\u001b[0m\u001b[0;34m,\u001b[0m \u001b[0msecondary_y\u001b[0m\u001b[0;34m=\u001b[0m\u001b[0msecondary_y\u001b[0m\u001b[0;34m,\u001b[0m\u001b[0;34m\u001b[0m\u001b[0m\n\u001b[0;32m-> 2677\u001b[0;31m                           sort_columns=sort_columns, **kwds)\n\u001b[0m\u001b[1;32m   2678\u001b[0m     \u001b[0m__call__\u001b[0m\u001b[0;34m.\u001b[0m\u001b[0m__doc__\u001b[0m \u001b[0;34m=\u001b[0m \u001b[0mplot_frame\u001b[0m\u001b[0;34m.\u001b[0m\u001b[0m__doc__\u001b[0m\u001b[0;34m\u001b[0m\u001b[0m\n\u001b[1;32m   2679\u001b[0m \u001b[0;34m\u001b[0m\u001b[0m\n",
      "\u001b[0;32m~/anaconda3/lib/python3.6/site-packages/pandas/plotting/_core.py\u001b[0m in \u001b[0;36mplot_frame\u001b[0;34m(data, x, y, kind, ax, subplots, sharex, sharey, layout, figsize, use_index, title, grid, legend, style, logx, logy, loglog, xticks, yticks, xlim, ylim, rot, fontsize, colormap, table, yerr, xerr, secondary_y, sort_columns, **kwds)\u001b[0m\n\u001b[1;32m   1900\u001b[0m                  \u001b[0myerr\u001b[0m\u001b[0;34m=\u001b[0m\u001b[0myerr\u001b[0m\u001b[0;34m,\u001b[0m \u001b[0mxerr\u001b[0m\u001b[0;34m=\u001b[0m\u001b[0mxerr\u001b[0m\u001b[0;34m,\u001b[0m\u001b[0;34m\u001b[0m\u001b[0m\n\u001b[1;32m   1901\u001b[0m                  \u001b[0msecondary_y\u001b[0m\u001b[0;34m=\u001b[0m\u001b[0msecondary_y\u001b[0m\u001b[0;34m,\u001b[0m \u001b[0msort_columns\u001b[0m\u001b[0;34m=\u001b[0m\u001b[0msort_columns\u001b[0m\u001b[0;34m,\u001b[0m\u001b[0;34m\u001b[0m\u001b[0m\n\u001b[0;32m-> 1902\u001b[0;31m                  **kwds)\n\u001b[0m\u001b[1;32m   1903\u001b[0m \u001b[0;34m\u001b[0m\u001b[0m\n\u001b[1;32m   1904\u001b[0m \u001b[0;34m\u001b[0m\u001b[0m\n",
      "\u001b[0;32m~/anaconda3/lib/python3.6/site-packages/pandas/plotting/_core.py\u001b[0m in \u001b[0;36m_plot\u001b[0;34m(data, x, y, subplots, ax, kind, **kwds)\u001b[0m\n\u001b[1;32m   1727\u001b[0m         \u001b[0mplot_obj\u001b[0m \u001b[0;34m=\u001b[0m \u001b[0mklass\u001b[0m\u001b[0;34m(\u001b[0m\u001b[0mdata\u001b[0m\u001b[0;34m,\u001b[0m \u001b[0msubplots\u001b[0m\u001b[0;34m=\u001b[0m\u001b[0msubplots\u001b[0m\u001b[0;34m,\u001b[0m \u001b[0max\u001b[0m\u001b[0;34m=\u001b[0m\u001b[0max\u001b[0m\u001b[0;34m,\u001b[0m \u001b[0mkind\u001b[0m\u001b[0;34m=\u001b[0m\u001b[0mkind\u001b[0m\u001b[0;34m,\u001b[0m \u001b[0;34m**\u001b[0m\u001b[0mkwds\u001b[0m\u001b[0;34m)\u001b[0m\u001b[0;34m\u001b[0m\u001b[0m\n\u001b[1;32m   1728\u001b[0m \u001b[0;34m\u001b[0m\u001b[0m\n\u001b[0;32m-> 1729\u001b[0;31m     \u001b[0mplot_obj\u001b[0m\u001b[0;34m.\u001b[0m\u001b[0mgenerate\u001b[0m\u001b[0;34m(\u001b[0m\u001b[0;34m)\u001b[0m\u001b[0;34m\u001b[0m\u001b[0m\n\u001b[0m\u001b[1;32m   1730\u001b[0m     \u001b[0mplot_obj\u001b[0m\u001b[0;34m.\u001b[0m\u001b[0mdraw\u001b[0m\u001b[0;34m(\u001b[0m\u001b[0;34m)\u001b[0m\u001b[0;34m\u001b[0m\u001b[0m\n\u001b[1;32m   1731\u001b[0m     \u001b[0;32mreturn\u001b[0m \u001b[0mplot_obj\u001b[0m\u001b[0;34m.\u001b[0m\u001b[0mresult\u001b[0m\u001b[0;34m\u001b[0m\u001b[0m\n",
      "\u001b[0;32m~/anaconda3/lib/python3.6/site-packages/pandas/plotting/_core.py\u001b[0m in \u001b[0;36mgenerate\u001b[0;34m(self)\u001b[0m\n\u001b[1;32m    248\u001b[0m     \u001b[0;32mdef\u001b[0m \u001b[0mgenerate\u001b[0m\u001b[0;34m(\u001b[0m\u001b[0mself\u001b[0m\u001b[0;34m)\u001b[0m\u001b[0;34m:\u001b[0m\u001b[0;34m\u001b[0m\u001b[0m\n\u001b[1;32m    249\u001b[0m         \u001b[0mself\u001b[0m\u001b[0;34m.\u001b[0m\u001b[0m_args_adjust\u001b[0m\u001b[0;34m(\u001b[0m\u001b[0;34m)\u001b[0m\u001b[0;34m\u001b[0m\u001b[0m\n\u001b[0;32m--> 250\u001b[0;31m         \u001b[0mself\u001b[0m\u001b[0;34m.\u001b[0m\u001b[0m_compute_plot_data\u001b[0m\u001b[0;34m(\u001b[0m\u001b[0;34m)\u001b[0m\u001b[0;34m\u001b[0m\u001b[0m\n\u001b[0m\u001b[1;32m    251\u001b[0m         \u001b[0mself\u001b[0m\u001b[0;34m.\u001b[0m\u001b[0m_setup_subplots\u001b[0m\u001b[0;34m(\u001b[0m\u001b[0;34m)\u001b[0m\u001b[0;34m\u001b[0m\u001b[0m\n\u001b[1;32m    252\u001b[0m         \u001b[0mself\u001b[0m\u001b[0;34m.\u001b[0m\u001b[0m_make_plot\u001b[0m\u001b[0;34m(\u001b[0m\u001b[0;34m)\u001b[0m\u001b[0;34m\u001b[0m\u001b[0m\n",
      "\u001b[0;32m~/anaconda3/lib/python3.6/site-packages/pandas/plotting/_core.py\u001b[0m in \u001b[0;36m_compute_plot_data\u001b[0;34m(self)\u001b[0m\n\u001b[1;32m    363\u001b[0m         \u001b[0;32mif\u001b[0m \u001b[0mis_empty\u001b[0m\u001b[0;34m:\u001b[0m\u001b[0;34m\u001b[0m\u001b[0m\n\u001b[1;32m    364\u001b[0m             raise TypeError('Empty {0!r}: no numeric data to '\n\u001b[0;32m--> 365\u001b[0;31m                             'plot'.format(numeric_data.__class__.__name__))\n\u001b[0m\u001b[1;32m    366\u001b[0m \u001b[0;34m\u001b[0m\u001b[0m\n\u001b[1;32m    367\u001b[0m         \u001b[0mself\u001b[0m\u001b[0;34m.\u001b[0m\u001b[0mdata\u001b[0m \u001b[0;34m=\u001b[0m \u001b[0mnumeric_data\u001b[0m\u001b[0;34m\u001b[0m\u001b[0m\n",
      "\u001b[0;31mTypeError\u001b[0m: Empty 'DataFrame': no numeric data to plot"
     ]
    }
   ],
   "source": [
    "df = pd.DataFrame(list(zip(values,features))).set_index(1).sort_values(0)\n",
    "\n",
    "df.plot.barh(figsize=(10,10))"
   ]
  },
  {
   "cell_type": "code",
   "execution_count": null,
   "metadata": {
    "collapsed": true
   },
   "outputs": [],
   "source": []
  }
 ],
 "metadata": {
  "kernelspec": {
   "display_name": "Python 3",
   "language": "python",
   "name": "python3"
  },
  "language_info": {
   "codemirror_mode": {
    "name": "ipython",
    "version": 3
   },
   "file_extension": ".py",
   "mimetype": "text/x-python",
   "name": "python",
   "nbconvert_exporter": "python",
   "pygments_lexer": "ipython3",
   "version": "3.6.3"
  }
 },
 "nbformat": 4,
 "nbformat_minor": 2
}
