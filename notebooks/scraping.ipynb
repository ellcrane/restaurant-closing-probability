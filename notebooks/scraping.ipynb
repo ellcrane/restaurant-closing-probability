{
 "cells": [
  {
   "cell_type": "code",
   "execution_count": 82,
   "metadata": {
    "collapsed": true
   },
   "outputs": [],
   "source": [
    "import pandas as pd\n",
    "import numpy as np\n",
    "import requests\n",
    "import yaml\n",
    "import time\n",
    "from selenium import webdriver\n",
    "import random\n",
    "import json\n",
    "from pymongo import MongoClient\n",
    "from collections import Counter\n",
    "from selenium.common.exceptions import WebDriverException\n",
    "import boto3"
   ]
  },
  {
   "cell_type": "code",
   "execution_count": 6,
   "metadata": {
    "collapsed": true
   },
   "outputs": [],
   "source": [
    "def create_pandas_df_from_json(path):\n",
    "    '''\n",
    "    INPUT: filepath string\n",
    "    OUTPUT: pandas database\n",
    "    '''\n",
    "    return pd.read_json(file_path, lines=True)\n",
    "\n",
    "def is_food(item):\n",
    "    '''\n",
    "    INPUT: cell from pandas dataframe\n",
    "    OUTPUT: boolean\n",
    "    '''\n",
    "    restaurants_and_related_categories = ['Restaurants', 'Italian','Food', 'Bars','Fast Food', 'Coffee & Tea', 'Sandwiches']\n",
    "    if len(set(restaurants_and_related_categories) & set(item)) >= 1:\n",
    "        return True\n",
    "    else:\n",
    "        return False\n",
    "    \n",
    "def current_google_data(keys, index, dataframe, radius):\n",
    "    name = dataframe[['name']].iloc[index,0]\n",
    "    latitude = dataframe[['latitude']].iloc[index,0]\n",
    "    longitude = dataframe[['longitude']].iloc[index,0]\n",
    "    \n",
    "    link = 'https://maps.googleapis.com/maps/api/place/nearbysearch/json?location=' + \\\n",
    "    str(latitude) + ',' + str(longitude) + '&radius=' + str(radius) + '&keyword=' + str(name) + '&key=' + str(keys)\n",
    "    \n",
    "    response = requests.get(link)\n",
    "    response_dict = response.json()\n",
    "    \n",
    "    response_dict['yelp_business_id'] = dataframe[['business_id']].iloc[index,0]\n",
    "    response_dict['queried_name'] = name\n",
    "    response_dict['queried_latitude'] = latitude\n",
    "    response_dict['queried_longitude'] = longitude\n",
    "    \n",
    "    \n",
    "    if response.status_code != 200:\n",
    "        print(response.status_code)\n",
    "        time.sleep(10)\n",
    "        response = requests.get(link)\n",
    "        if response.status_code != 200:\n",
    "            print(response.status_code)\n",
    "            time.sleep(10)\n",
    "            return \"Came back empty\"\n",
    "    if len(str(response.json())) < 100:\n",
    "        return response_dict\n",
    "    else:\n",
    "        return response_dict\n",
    "    \n",
    "def bulk_google_places_search(google_keys, dataframe, start_idx, end_idx, failed_rows,\n",
    "                              radius=10, update_frequency=100, print_updates = True):\n",
    "    \n",
    "    client = MongoClient('mongodb://localhost:27017/')\n",
    "    restaurants = client['restaurants']\n",
    "    google_places = restaurants['google_places']\n",
    "    start_time = time.time()\n",
    "    \n",
    "    \n",
    "    with open('/Users/ElliottC/.secrets/google_keys.txt') as f:\n",
    "        google_keys = yaml.load(f)\n",
    "    \n",
    "    for i in range(start_idx, end_idx):\n",
    "        try:\n",
    "            google_places.insert_one(current_google_data(google_keys, i, dataframe, radius))\n",
    "        except requests.exceptions.SSLError:\n",
    "            failed_rows.append({'time':time.time(), 'index': i})\n",
    "            print(f\"Error at index {i}\")\n",
    "            time.sleep(60)\n",
    "        if (i % update_frequency == 0) and print_updates:\n",
    "            print(f\"At index {i}: {end_idx-i} remaining requests\")\n",
    "            elapsed = round(time.time() - start_time, 2)\n",
    "            speed = round(elapsed / update_frequency, 2)\n",
    "            remaining_time = str(round(((end_idx-i) * speed),2)/60/60) + \" hours\"\n",
    "            print(f\"{elapsed} per {update_frequency} requests, or {speed} per request\\nRemaining time: {remaining_time}\")\n",
    "            start_time = time.time()\n",
    "    return failed_rows\n",
    "            \n",
    "class ScrapeCensus:\n",
    "    def __init__(self, url):\n",
    "        self.browser = webdriver.Chrome()\n",
    "        self.browser.get(url)\n",
    "        self.s3 = boto3.client('s3')\n",
    "    def scrape(self, list_of_zip_codes, start_idx, end_idx):\n",
    "        for i in range(len(list_of_zip_codes[start_idx:end_idx])):\n",
    "            search_box = self.browser.find_element_by_css_selector(\"input#cfsearchtextbox\")\n",
    "            search_box.click()\n",
    "            search_box.send_keys(list_of_zip_codes[i])\n",
    "            search_button = self.browser.find_element_by_css_selector(\"a#communityfactssubmit\")\n",
    "            search_button.click()\n",
    "            time.sleep(2)\n",
    "            try:\n",
    "                show_all = self.browser.find_element_by_css_selector(\"a.leftnav_btn.all-measures\")\n",
    "                show_all.click()\n",
    "            except WebDriverException:\n",
    "                self.browser.get(\"https://factfinder.census.gov/faces/nav/jsf/pages/community_facts.xhtml\")\n",
    "                time.sleep(1)\n",
    "                show_all = self.browser.find_element_by_css_selector(\"a.leftnav_btn.all-measures\")\n",
    "                show_all.click()\n",
    "            time.sleep(2)\n",
    "            page_source = self.browser.page_source\n",
    "            self.s3.put_object(Bucket='zip-code-economic-data', Key='zip_code: '+list_of_zip_codes[i], Body=page_source)\n",
    "            print(f\"{i}: {list_of_zip_codes[i]}\")\n",
    "            \n",
    "            \n",
    "def get_zipped_postcode_data_from_s3_bucket(postcodes):\n",
    "    s3 = boto3.client('s3')\n",
    "    zip_code_data = []\n",
    "    for code in postcodes:\n",
    "        response = s3.get_object(Bucket='zip-code-economic-data', Key=f'zip_code: {code}')\n",
    "        body = response['Body'].read()\n",
    "        df = pd.read_html(body)[0][pd.read_html(body)[0]['Measure'].map(type) == str][['Description', 'Measure']]\n",
    "        keys = [str(x) for x in list(df['Description'].values)]\n",
    "        vals = [str(x) for x in list(df['Measure'].values)]\n",
    "        zipped = dict(zip(keys, vals))\n",
    "        zipped['Zip Code'] = code\n",
    "        zip_code_data.append(zipped)\n",
    "    return zip_code_data"
   ]
  },
  {
   "cell_type": "code",
   "execution_count": 7,
   "metadata": {},
   "outputs": [],
   "source": [
    "file_path = 'https://s3-us-west-2.amazonaws.com/businesspredictiondata/business.json'\n",
    "yelp_business_data = create_pandas_df_from_json(file_path)\n",
    "\n",
    "#filters businesses that were open when this dataset was published Jan. 2018\n",
    "open_businesses = yelp_business_data.loc[yelp_business_data['is_open'] == 1, :].copy()\n",
    "\n",
    "#creates column that says if business is restaurant and creates df of just open restaurants\n",
    "open_businesses['is_food'] = open_businesses.loc[:, 'categories'].apply(is_food)\n",
    "open_restaurants = open_businesses.loc[open_businesses['is_food'] == True, :].copy()\n",
    "\n",
    "#creates column that says if business is in USA and creates df of just\n",
    "#restaurants open in the US as of January 2018\n",
    "states = [\"AL\", \"AK\", \"AZ\", \"AR\", \"CA\", \"CO\", \"CT\", \"DC\", \"DE\", \"FL\", \"GA\",\n",
    "      \"HI\", \"ID\", \"IL\", \"IN\", \"IA\", \"KS\", \"KY\", \"LA\", \"ME\", \"MD\",\n",
    "      \"MA\", \"MI\", \"MN\", \"MS\", \"MO\", \"MT\", \"NE\", \"NV\", \"NH\", \"NJ\",\n",
    "      \"NM\", \"NY\", \"NC\", \"ND\", \"OH\", \"OK\", \"OR\", \"PA\", \"RI\", \"SC\",\n",
    "      \"SD\", \"TN\", \"TX\", \"UT\", \"VT\", \"VA\", \"WA\", \"WV\", \"WI\", \"WY\"]\n",
    "open_restaurants['in_US'] = open_restaurants['state'].isin(states)\n",
    "previously_open_US_restaurants = open_restaurants[open_restaurants['in_US'] == True]"
   ]
  },
  {
   "cell_type": "code",
   "execution_count": 2,
   "metadata": {},
   "outputs": [
    {
     "ename": "NameError",
     "evalue": "name 'MongoClient' is not defined",
     "output_type": "error",
     "traceback": [
      "\u001b[0;31m---------------------------------------------------------------------------\u001b[0m",
      "\u001b[0;31mNameError\u001b[0m                                 Traceback (most recent call last)",
      "\u001b[0;32m<ipython-input-2-62de2be8d3e2>\u001b[0m in \u001b[0;36m<module>\u001b[0;34m()\u001b[0m\n\u001b[1;32m      1\u001b[0m \u001b[0;31m#scrapes google to get updated business information\u001b[0m\u001b[0;34m\u001b[0m\u001b[0;34m\u001b[0m\u001b[0m\n\u001b[0;32m----> 2\u001b[0;31m \u001b[0mclient\u001b[0m \u001b[0;34m=\u001b[0m \u001b[0mMongoClient\u001b[0m\u001b[0;34m(\u001b[0m\u001b[0;34m'mongodb://localhost:27017/'\u001b[0m\u001b[0;34m)\u001b[0m\u001b[0;34m\u001b[0m\u001b[0m\n\u001b[0m\u001b[1;32m      3\u001b[0m \u001b[0mrestaurants\u001b[0m \u001b[0;34m=\u001b[0m \u001b[0mclient\u001b[0m\u001b[0;34m[\u001b[0m\u001b[0;34m'restaurants'\u001b[0m\u001b[0;34m]\u001b[0m\u001b[0;34m\u001b[0m\u001b[0m\n\u001b[1;32m      4\u001b[0m \u001b[0mgoogle_places\u001b[0m \u001b[0;34m=\u001b[0m \u001b[0mrestaurants\u001b[0m\u001b[0;34m[\u001b[0m\u001b[0;34m'google_places'\u001b[0m\u001b[0;34m]\u001b[0m\u001b[0;34m\u001b[0m\u001b[0m\n\u001b[1;32m      5\u001b[0m \u001b[0;34m\u001b[0m\u001b[0m\n",
      "\u001b[0;31mNameError\u001b[0m: name 'MongoClient' is not defined"
     ]
    }
   ],
   "source": [
    "#scrapes google to get updated business information\n",
    "client = MongoClient('mongodb://localhost:27017/')\n",
    "restaurants = client['restaurants']\n",
    "google_places = restaurants['google_places']\n",
    "\n",
    "with open('/Users/ElliottC/.secrets/google_keys.txt') as f:\n",
    "    google_keys = yaml.load(f)\n",
    "\n",
    "failed_rows = []\n",
    "\n",
    "bulk_google_places_search(google_keys, previously_open_US_restaurants, 0, len(previously_open_US_restaurants), failed_rows, 10, 100)"
   ]
  },
  {
   "cell_type": "code",
   "execution_count": 71,
   "metadata": {
    "collapsed": true
   },
   "outputs": [],
   "source": [
    "#gets the valid postal codes from the dataframe and then scrapes the census for data on each\n",
    "postcodes = list(previously_open_US_restaurants['postal_code'].unique())\n",
    "\n",
    "postcodes = [x for x in postcodes if len(x) > 2]\n",
    "\n",
    "scraper = ScrapeCensus('https://factfinder.census.gov/faces/nav/jsf/pages/community_facts.xhtml')\n",
    "\n",
    "scrape_this.scrape(postcodes, 0, len(postcodes))"
   ]
  },
  {
   "cell_type": "code",
   "execution_count": 389,
   "metadata": {
    "collapsed": true
   },
   "outputs": [],
   "source": [
    "#turns the zip code data into a dataframe and saves it\n",
    "zip_code_dicts = get_zipped_postcode_data_from_s3_bucket(postcodes)\n",
    "zip_code_df = pd.DataFrame(zip_code_dicts)\n",
    "zip_code_df.to_csv('/Users/ElliottC/g/projects/yelp/predicting_restaurant_closure/data/zip_code_data.csv')"
   ]
  },
  {
   "cell_type": "code",
   "execution_count": 145,
   "metadata": {},
   "outputs": [],
   "source": [
    "def google_nearby_restaurants(keys, index, dataframe, radius):\n",
    "    latitude = dataframe[['latitude']].iloc[index,0]\n",
    "    longitude = dataframe[['longitude']].iloc[index,0]\n",
    "    \n",
    "    link = 'https://maps.googleapis.com/maps/api/place/nearbysearch/json?location=' + \\\n",
    "    str(latitude) + ',' + str(longitude) + '&radius=' + str(radius) + '&key=' + str(keys) + '&type=restaurant'\n",
    "    \n",
    "    response = requests.get(link)\n",
    "    response_dict = response.json()\n",
    "    \n",
    "    response_dict['yelp_business_id'] = dataframe[['business_id']].iloc[index,0]\n",
    "    response_dict['radius'] = radius\n",
    "    response_dict['queried_latitude'] = latitude\n",
    "    response_dict['queried_longitude'] = longitude\n",
    "    \n",
    "    \n",
    "    if response.status_code != 200:\n",
    "        print(response.status_code)\n",
    "        time.sleep(10)\n",
    "        response = requests.get(link)\n",
    "        if response.status_code != 200:\n",
    "            print(response.status_code)\n",
    "            time.sleep(10)\n",
    "            return \"Came back empty\"\n",
    "    if len(str(response.json())) < 100:\n",
    "        return response_dict\n",
    "    else:\n",
    "        return response_dict"
   ]
  },
  {
   "cell_type": "code",
   "execution_count": 152,
   "metadata": {
    "collapsed": true
   },
   "outputs": [],
   "source": [
    "def bulk_google_nearby(start_idx, end_idx, dataframe, radius, update_frequency=100, print_updates=True):\n",
    "    failed_rows = []\n",
    "    \n",
    "    client = MongoClient('mongodb://localhost:27017/')\n",
    "    restaurants = client['restaurants']\n",
    "    maps_nearby = restaurants['maps_nearby']\n",
    "    start_time = time.time()\n",
    "    \n",
    "    with open('/Users/ElliottC/.secrets/google_keys.txt') as f:\n",
    "        google_keys = yaml.load(f)\n",
    "    \n",
    "    for i in range(start_idx, end_idx):\n",
    "        try:\n",
    "            maps_nearby.insert_one(google_nearby_restaurants(google_keys, i, dataframe, radius))\n",
    "        except requests.exceptions.SSLError:\n",
    "            failed_rows.append({'time':time.time(), 'index': i})\n",
    "            print(f\"Error at index {i}\")\n",
    "            time.sleep(60)\n",
    "        if (i % update_frequency == 0) and print_updates:\n",
    "            print(f\"At index {i}: {end_idx-i} remaining requests\")\n",
    "            elapsed = round(time.time() - start_time, 2)\n",
    "            speed = round(elapsed / update_frequency, 2)\n",
    "            remaining_time = str(round(((end_idx-i) * speed),2)/60/60) + \" hours\"\n",
    "            print(f\"{elapsed} per {update_frequency} requests, or {speed} per request\\nRemaining time: {remaining_time}\")\n",
    "            start_time = time.time()\n",
    "    return failed_rows"
   ]
  },
  {
   "cell_type": "code",
   "execution_count": 159,
   "metadata": {
    "collapsed": true
   },
   "outputs": [],
   "source": [
    "client = MongoClient('mongodb://localhost:27017/')\n",
    "restaurants = client['restaurants']\n",
    "maps_nearby = restaurants['maps_nearby']\n",
    "start_time = time.time()"
   ]
  },
  {
   "cell_type": "code",
   "execution_count": null,
   "metadata": {},
   "outputs": [
    {
     "name": "stdout",
     "output_type": "stream",
     "text": [
      "At index 10000: 10000 remaining requests\n",
      "0.3 per 100 requests, or 0.0 per request\n",
      "Remaining time: 0.0 hours\n",
      "At index 10100: 9900 remaining requests\n",
      "25.81 per 100 requests, or 0.26 per request\n",
      "Remaining time: 0.715 hours\n",
      "At index 10200: 9800 remaining requests\n",
      "28.1 per 100 requests, or 0.28 per request\n",
      "Remaining time: 0.7622222222222222 hours\n",
      "At index 10300: 9700 remaining requests\n",
      "26.5 per 100 requests, or 0.27 per request\n",
      "Remaining time: 0.7274999999999999 hours\n",
      "At index 10400: 9600 remaining requests\n",
      "28.38 per 100 requests, or 0.28 per request\n",
      "Remaining time: 0.7466666666666666 hours\n",
      "At index 10500: 9500 remaining requests\n",
      "26.36 per 100 requests, or 0.26 per request\n",
      "Remaining time: 0.6861111111111111 hours\n",
      "At index 10600: 9400 remaining requests\n",
      "24.67 per 100 requests, or 0.25 per request\n",
      "Remaining time: 0.6527777777777778 hours\n",
      "At index 10700: 9300 remaining requests\n",
      "27.18 per 100 requests, or 0.27 per request\n",
      "Remaining time: 0.6975 hours\n",
      "At index 10800: 9200 remaining requests\n",
      "25.21 per 100 requests, or 0.25 per request\n",
      "Remaining time: 0.638888888888889 hours\n",
      "At index 10900: 9100 remaining requests\n",
      "27.59 per 100 requests, or 0.28 per request\n",
      "Remaining time: 0.7077777777777778 hours\n",
      "At index 11000: 9000 remaining requests\n",
      "27.32 per 100 requests, or 0.27 per request\n",
      "Remaining time: 0.675 hours\n",
      "At index 11100: 8900 remaining requests\n",
      "27.8 per 100 requests, or 0.28 per request\n",
      "Remaining time: 0.6922222222222222 hours\n",
      "At index 11200: 8800 remaining requests\n",
      "28.17 per 100 requests, or 0.28 per request\n",
      "Remaining time: 0.6844444444444445 hours\n",
      "At index 11300: 8700 remaining requests\n",
      "25.95 per 100 requests, or 0.26 per request\n",
      "Remaining time: 0.6283333333333334 hours\n",
      "At index 11400: 8600 remaining requests\n",
      "26.8 per 100 requests, or 0.27 per request\n",
      "Remaining time: 0.645 hours\n",
      "At index 11500: 8500 remaining requests\n",
      "26.9 per 100 requests, or 0.27 per request\n",
      "Remaining time: 0.6375 hours\n",
      "At index 11600: 8400 remaining requests\n",
      "29.19 per 100 requests, or 0.29 per request\n",
      "Remaining time: 0.6766666666666666 hours\n",
      "At index 11700: 8300 remaining requests\n",
      "26.21 per 100 requests, or 0.26 per request\n",
      "Remaining time: 0.5994444444444444 hours\n",
      "At index 11800: 8200 remaining requests\n",
      "28.11 per 100 requests, or 0.28 per request\n",
      "Remaining time: 0.6377777777777778 hours\n",
      "At index 11900: 8100 remaining requests\n",
      "26.75 per 100 requests, or 0.27 per request\n",
      "Remaining time: 0.6075 hours\n",
      "At index 12000: 8000 remaining requests\n",
      "26.67 per 100 requests, or 0.27 per request\n",
      "Remaining time: 0.6 hours\n",
      "At index 12100: 7900 remaining requests\n",
      "27.63 per 100 requests, or 0.28 per request\n",
      "Remaining time: 0.6144444444444445 hours\n",
      "At index 12200: 7800 remaining requests\n",
      "26.93 per 100 requests, or 0.27 per request\n",
      "Remaining time: 0.5850000000000001 hours\n",
      "At index 12300: 7700 remaining requests\n",
      "26.92 per 100 requests, or 0.27 per request\n",
      "Remaining time: 0.5775 hours\n",
      "At index 12400: 7600 remaining requests\n",
      "27.18 per 100 requests, or 0.27 per request\n",
      "Remaining time: 0.5700000000000001 hours\n",
      "At index 12500: 7500 remaining requests\n",
      "27.39 per 100 requests, or 0.27 per request\n",
      "Remaining time: 0.5625 hours\n",
      "At index 12600: 7400 remaining requests\n",
      "27.73 per 100 requests, or 0.28 per request\n",
      "Remaining time: 0.5755555555555555 hours\n",
      "At index 12700: 7300 remaining requests\n",
      "27.08 per 100 requests, or 0.27 per request\n",
      "Remaining time: 0.5475 hours\n",
      "At index 12800: 7200 remaining requests\n",
      "26.18 per 100 requests, or 0.26 per request\n",
      "Remaining time: 0.52 hours\n",
      "At index 12900: 7100 remaining requests\n",
      "25.5 per 100 requests, or 0.26 per request\n",
      "Remaining time: 0.5127777777777778 hours\n",
      "At index 13000: 7000 remaining requests\n",
      "27.97 per 100 requests, or 0.28 per request\n",
      "Remaining time: 0.5444444444444444 hours\n",
      "At index 13100: 6900 remaining requests\n",
      "28.17 per 100 requests, or 0.28 per request\n",
      "Remaining time: 0.5366666666666667 hours\n",
      "At index 13200: 6800 remaining requests\n",
      "31.4 per 100 requests, or 0.31 per request\n",
      "Remaining time: 0.5855555555555555 hours\n",
      "At index 13300: 6700 remaining requests\n",
      "25.14 per 100 requests, or 0.25 per request\n",
      "Remaining time: 0.4652777777777778 hours\n",
      "At index 13400: 6600 remaining requests\n",
      "28.43 per 100 requests, or 0.28 per request\n",
      "Remaining time: 0.5133333333333333 hours\n",
      "At index 13500: 6500 remaining requests\n",
      "26.19 per 100 requests, or 0.26 per request\n",
      "Remaining time: 0.46944444444444444 hours\n",
      "At index 13600: 6400 remaining requests\n",
      "26.86 per 100 requests, or 0.27 per request\n",
      "Remaining time: 0.48000000000000004 hours\n",
      "At index 13700: 6300 remaining requests\n",
      "26.26 per 100 requests, or 0.26 per request\n",
      "Remaining time: 0.455 hours\n",
      "At index 13800: 6200 remaining requests\n",
      "25.7 per 100 requests, or 0.26 per request\n",
      "Remaining time: 0.4477777777777778 hours\n",
      "At index 13900: 6100 remaining requests\n",
      "25.81 per 100 requests, or 0.26 per request\n",
      "Remaining time: 0.44055555555555553 hours\n",
      "At index 14000: 6000 remaining requests\n",
      "25.26 per 100 requests, or 0.25 per request\n",
      "Remaining time: 0.4166666666666667 hours\n",
      "At index 14100: 5900 remaining requests\n",
      "27.43 per 100 requests, or 0.27 per request\n",
      "Remaining time: 0.4425 hours\n",
      "At index 14200: 5800 remaining requests\n",
      "25.85 per 100 requests, or 0.26 per request\n",
      "Remaining time: 0.41888888888888887 hours\n"
     ]
    }
   ],
   "source": [
    "test = bulk_google_nearby(10000, 20000, previously_open_US_restaurants, 400)"
   ]
  },
  {
   "cell_type": "code",
   "execution_count": 79,
   "metadata": {},
   "outputs": [],
   "source": [
    "for i in range()\n",
    "google_nearby_restaurants(google_keys,0,previously_open_US_restaurants, 5000)"
   ]
  },
  {
   "cell_type": "code",
   "execution_count": 126,
   "metadata": {},
   "outputs": [],
   "source": [
    "rand_idxs = [random.randint(0, len(previously_open_US_restaurants)) for i in range(100)]"
   ]
  },
  {
   "cell_type": "code",
   "execution_count": 133,
   "metadata": {},
   "outputs": [],
   "source": [
    "for radius in radiuses:\n",
    "    biz_results = []\n",
    "    for val in rand_idxs:\n",
    "        results = google_nearby_restaurants(google_keys,val, previously_open_US_restaurants,radius)\n",
    "        biz_results.append(len(results['results']))\n",
    "    radius_values[radius] = biz_results"
   ]
  },
  {
   "cell_type": "code",
   "execution_count": 134,
   "metadata": {},
   "outputs": [],
   "source": [
    "for key, value in radius_values.items():\n",
    "    avg_results[key] = (sum(value) / len(value))"
   ]
  },
  {
   "cell_type": "code",
   "execution_count": 135,
   "metadata": {},
   "outputs": [
    {
     "data": {
      "text/plain": [
       "{10: 0.39,\n",
       " 21: 0.74,\n",
       " 46: 1.43,\n",
       " 100: 2.88,\n",
       " 215: 5.83,\n",
       " 300: 8.09,\n",
       " 322: 8.57,\n",
       " 344: 9.02,\n",
       " 366: 9.36,\n",
       " 388: 9.71,\n",
       " 411: 10.26,\n",
       " 433: 10.53,\n",
       " 455: 10.91,\n",
       " 464: 10.97,\n",
       " 477: 11.17,\n",
       " 500: 11.55,\n",
       " 1000: 15.75,\n",
       " 2154: 18.85,\n",
       " 4641: 19.87,\n",
       " 10000: 20.0}"
      ]
     },
     "execution_count": 135,
     "metadata": {},
     "output_type": "execute_result"
    }
   ],
   "source": [
    "avg_results"
   ]
  },
  {
   "cell_type": "code",
   "execution_count": null,
   "metadata": {
    "collapsed": true
   },
   "outputs": [],
   "source": [
    "#400 meters will provide an average number of restaurants close to 10. Next step is to do run this on all of my businesses"
   ]
  },
  {
   "cell_type": "code",
   "execution_count": 125,
   "metadata": {},
   "outputs": [],
   "source": [
    "radiuses = np.logspace(1, 4, num=10).astype(int)"
   ]
  },
  {
   "cell_type": "code",
   "execution_count": 132,
   "metadata": {},
   "outputs": [],
   "source": [
    "radiuses = np.linspace(300, 500, num=10).astype(int)"
   ]
  },
  {
   "cell_type": "code",
   "execution_count": null,
   "metadata": {
    "collapsed": true
   },
   "outputs": [],
   "source": [
    "#scrapes google to get updated business information\n",
    "client = MongoClient('mongodb://localhost:27017/')\n",
    "restaurants = client['restaurants']\n",
    "google_nearby_restaurants = restaurants['google_nearby_restaurants']\n"
   ]
  },
  {
   "cell_type": "code",
   "execution_count": null,
   "metadata": {
    "collapsed": true
   },
   "outputs": [],
   "source": [
    "previously_open_US_restaurants"
   ]
  }
 ],
 "metadata": {
  "kernelspec": {
   "display_name": "Python 3",
   "language": "python",
   "name": "python3"
  },
  "language_info": {
   "codemirror_mode": {
    "name": "ipython",
    "version": 3
   },
   "file_extension": ".py",
   "mimetype": "text/x-python",
   "name": "python",
   "nbconvert_exporter": "python",
   "pygments_lexer": "ipython3",
   "version": "3.6.3"
  }
 },
 "nbformat": 4,
 "nbformat_minor": 2
}
