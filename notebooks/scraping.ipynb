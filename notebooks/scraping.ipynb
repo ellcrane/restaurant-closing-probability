{
 "cells": [
  {
   "cell_type": "code",
   "execution_count": 1,
   "metadata": {
    "collapsed": true
   },
   "outputs": [],
   "source": [
    "import pandas as pd\n",
    "import numpy as np\n",
    "import requests\n",
    "import yaml\n",
    "import time\n",
    "from random import shuffle\n",
    "import json\n",
    "from pymongo import MongoClient\n",
    "from collections import Counter"
   ]
  },
  {
   "cell_type": "code",
   "execution_count": 5,
   "metadata": {
    "collapsed": true
   },
   "outputs": [],
   "source": [
    "def create_pandas_df_from_json(path):\n",
    "    '''\n",
    "    INPUT: filepath string\n",
    "    OUTPUT: pandas database\n",
    "    '''\n",
    "    return pd.read_json(file_path, lines=True)\n",
    "\n",
    "def is_food(item):\n",
    "    '''\n",
    "    INPUT: cell from pandas dataframe\n",
    "    OUTPUT: boolean\n",
    "    '''\n",
    "    restaurants_and_related_categories = ['Restaurants', 'Italian','Food', 'Bars','Fast Food', 'Coffee & Tea', 'Sandwiches']\n",
    "    if len(set(restaurants_and_related_categories) & set(item)) >= 1:\n",
    "        return True\n",
    "    else:\n",
    "        return False\n",
    "    \n",
    "def current_google_data(keys, index, dataframe, radius):\n",
    "    name = dataframe[['name']].iloc[index,0]\n",
    "    latitude = dataframe[['latitude']].iloc[index,0]\n",
    "    longitude = dataframe[['longitude']].iloc[index,0]\n",
    "    \n",
    "    link = 'https://maps.googleapis.com/maps/api/place/nearbysearch/json?location=' + \\\n",
    "    str(latitude) + ',' + str(longitude) + '&radius=' + str(radius) + '&keyword=' + str(name) + '&key=' + str(keys)\n",
    "    \n",
    "    response = requests.get(link)\n",
    "    response_dict = response.json()\n",
    "    \n",
    "    response_dict['yelp_business_id'] = dataframe[['business_id']].iloc[index,0]\n",
    "    response_dict['queried_name'] = name\n",
    "    response_dict['queried_latitude'] = latitude\n",
    "    response_dict['queried_longitude'] = longitude\n",
    "    \n",
    "    \n",
    "    if response.status_code != 200:\n",
    "        print(response.status_code)\n",
    "        time.sleep(10)\n",
    "        response = requests.get(link)\n",
    "        if response.status_code != 200:\n",
    "            print(response.status_code)\n",
    "            time.sleep(10)\n",
    "            return \"Came back empty\"\n",
    "    if len(str(response.json())) < 100:\n",
    "        return response_dict\n",
    "    else:\n",
    "        return response_dict\n",
    "    \n",
    "def bulk_google_places_search(google_keys, dataframe, start_idx, end_idx, failed_rows,\n",
    "                              radius=10, update_frequency=100, print_updates = True):\n",
    "    \n",
    "    client = MongoClient('mongodb://localhost:27017/')\n",
    "    restaurants = client['restaurants']\n",
    "    google_places = restaurants['google_places']\n",
    "    start_time = time.time()\n",
    "    \n",
    "    \n",
    "    with open('/Users/ElliottC/.secrets/google_keys.txt') as f:\n",
    "        google_keys = yaml.load(f)\n",
    "    \n",
    "    for i in range(start_idx, end_idx):\n",
    "        try:\n",
    "            google_places.insert_one(current_google_data(google_keys, i, dataframe, radius))\n",
    "        except requests.exceptions.SSLError:\n",
    "            failed_rows.append({'time':time.time(), 'index': i})\n",
    "            print(f\"Error at index {i}\")\n",
    "            time.sleep(60)\n",
    "        if (i % update_frequency == 0) and print_updates:\n",
    "            print(f\"At index {i}: {end_idx-i} remaining requests\")\n",
    "            elapsed = round(time.time() - start_time, 2)\n",
    "            speed = round(elapsed / update_frequency, 2)\n",
    "            remaining_time = str(round(((end_idx-i) * speed),2)/60/60) + \" hours\"\n",
    "            print(f\"{elapsed} per {update_frequency} requests, or {speed} per request\\nRemaining time: {remaining_time}\")\n",
    "            start_time = time.time()\n",
    "    return failed_rows"
   ]
  },
  {
   "cell_type": "code",
   "execution_count": 3,
   "metadata": {},
   "outputs": [
    {
     "name": "stderr",
     "output_type": "stream",
     "text": [
      "/Users/ElliottC/anaconda3/lib/python3.6/site-packages/ipykernel_launcher.py:8: SettingWithCopyWarning: \n",
      "A value is trying to be set on a copy of a slice from a DataFrame.\n",
      "Try using .loc[row_indexer,col_indexer] = value instead\n",
      "\n",
      "See the caveats in the documentation: http://pandas.pydata.org/pandas-docs/stable/indexing.html#indexing-view-versus-copy\n",
      "  \n",
      "/Users/ElliottC/anaconda3/lib/python3.6/site-packages/ipykernel_launcher.py:18: SettingWithCopyWarning: \n",
      "A value is trying to be set on a copy of a slice from a DataFrame.\n",
      "Try using .loc[row_indexer,col_indexer] = value instead\n",
      "\n",
      "See the caveats in the documentation: http://pandas.pydata.org/pandas-docs/stable/indexing.html#indexing-view-versus-copy\n"
     ]
    }
   ],
   "source": [
    "file_path = '~/g/projects/yelp/dataset/business.json'\n",
    "yelp_business_data = create_pandas_df_from_json(file_path)\n",
    "\n",
    "#filters businesses that were open when this dataset was published Jan. 2018\n",
    "open_businesses = yelp_business_data[yelp_business_data['is_open'] == 1]\n",
    "\n",
    "#creates column that says if business is restaurant and creates df of just open restaurants\n",
    "open_businesses['is_food'] = open_businesses['categories'].apply(is_food)\n",
    "open_restaurants = open_businesses[open_businesses['is_food'] == True]\n",
    "\n",
    "#creates column that says if business is in USA and creates df of just\n",
    "#restaurants open in the US as of January 2018\n",
    "states = [\"AL\", \"AK\", \"AZ\", \"AR\", \"CA\", \"CO\", \"CT\", \"DC\", \"DE\", \"FL\", \"GA\",\n",
    "      \"HI\", \"ID\", \"IL\", \"IN\", \"IA\", \"KS\", \"KY\", \"LA\", \"ME\", \"MD\",\n",
    "      \"MA\", \"MI\", \"MN\", \"MS\", \"MO\", \"MT\", \"NE\", \"NV\", \"NH\", \"NJ\",\n",
    "      \"NM\", \"NY\", \"NC\", \"ND\", \"OH\", \"OK\", \"OR\", \"PA\", \"RI\", \"SC\",\n",
    "      \"SD\", \"TN\", \"TX\", \"UT\", \"VT\", \"VA\", \"WA\", \"WV\", \"WI\", \"WY\"]\n",
    "open_restaurants['in_US'] = open_restaurants['state'].isin(states)\n",
    "previously_open_US_restaurants = open_restaurants[open_restaurants['in_US'] == True]\n",
    "\n",
    "\n",
    "client = MongoClient('mongodb://localhost:27017/')\n",
    "restaurants = client['restaurants']\n",
    "google_places = restaurants['google_places']\n",
    "\n",
    "with open('/Users/ElliottC/.secrets/google_keys.txt') as f:\n",
    "    google_keys = yaml.load(f)\n",
    "\n",
    "failed_rows = []\n",
    "\n",
    "bulk_google_places_search(google_keys, previously_open_US_restaurants, 0, len(previously_open_US_restaurants), failed_rows, 10, 100)"
   ]
  },
  {
   "cell_type": "code",
   "execution_count": null,
   "metadata": {
    "collapsed": true
   },
   "outputs": [],
   "source": []
  }
 ],
 "metadata": {
  "kernelspec": {
   "display_name": "Python 3",
   "language": "python",
   "name": "python3"
  },
  "language_info": {
   "codemirror_mode": {
    "name": "ipython",
    "version": 3
   },
   "file_extension": ".py",
   "mimetype": "text/x-python",
   "name": "python",
   "nbconvert_exporter": "python",
   "pygments_lexer": "ipython3",
   "version": "3.6.3"
  }
 },
 "nbformat": 4,
 "nbformat_minor": 2
}
