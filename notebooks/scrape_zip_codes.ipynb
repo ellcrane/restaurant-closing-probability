{
 "cells": [
  {
   "cell_type": "code",
   "execution_count": 2,
   "metadata": {
    "collapsed": true
   },
   "outputs": [],
   "source": [
    "import pandas as pd\n",
    "import numpy as np\n",
    "import requests\n",
    "import yaml\n",
    "import time\n",
    "from selenium import webdriver\n",
    "import random\n",
    "import json\n",
    "from pymongo import MongoClient\n",
    "from collections import Counter\n",
    "from selenium.common.exceptions import WebDriverException\n",
    "import boto3"
   ]
  },
  {
   "cell_type": "code",
   "execution_count": 76,
   "metadata": {
    "collapsed": true
   },
   "outputs": [],
   "source": [
    "class ScrapeCensus:\n",
    "    def __init__(self, url):\n",
    "        self.browser = webdriver.Chrome()\n",
    "        self.browser.get(url)\n",
    "        self.s3 = boto3.client('s3')\n",
    "    def scrape(self, n_to_scrape):\n",
    "        zip_codes_file = s3.get_object(Bucket='zip-code-economic-data', Key='all_zip_codes')['Body'].read()\n",
    "        zip_codes = zip_codes_file.decode('utf-8').split(',')\n",
    "        for i in range(n_to_scrape):\n",
    "            current_zip = zip_codes[i]\n",
    "            print(current_zip)\n",
    "            search_box = self.browser.find_element_by_css_selector(\"input#cfsearchtextbox\")\n",
    "            search_box.click()\n",
    "            search_box.send_keys(current_zip)\n",
    "            search_button = self.browser.find_element_by_css_selector(\"a#communityfactssubmit\")\n",
    "            search_button.click()\n",
    "            time.sleep(2)\n",
    "            try:\n",
    "                show_all = self.browser.find_element_by_css_selector(\"a.leftnav_btn.all-measures\")\n",
    "                show_all.click()\n",
    "            except WebDriverException:\n",
    "                self.browser.get(\"https://factfinder.census.gov/faces/nav/jsf/pages/community_facts.xhtml\")\n",
    "                time.sleep(1)\n",
    "                show_all = self.browser.find_element_by_css_selector(\"a.leftnav_btn.all-measures\")\n",
    "                show_all.click()\n",
    "            time.sleep(2)\n",
    "            page_source = self.browser.page_source\n",
    "            self.s3.put_object(Bucket='zip-code-economic-data', Key='zip_code: '+current_zip, Body=page_source)\n",
    "            zip_codes.remove(current_zip)\n",
    "            self.s3.put_object(Bucket='zip-code-economic-data', Key='all_zip_codes',Body=\",\".join(zip_codes))\n",
    "            print(f\"{i}: {current_zip}\")\n",
    "            \n",
    "            \n",
    "def get_zipped_postcode_data_from_s3_bucket(postcodes):\n",
    "    s3 = boto3.client('s3')\n",
    "    zip_code_data = []\n",
    "    for code in postcodes:\n",
    "        response = s3.get_object(Bucket='zip-code-economic-data', Key=f'zip_code: {code}')\n",
    "        body = response['Body'].read()\n",
    "        df = pd.read_html(body)[0][pd.read_html(body)[0]['Measure'].map(type) == str][['Description', 'Measure']]\n",
    "        keys = [str(x) for x in list(df['Description'].values)]\n",
    "        vals = [str(x) for x in list(df['Measure'].values)]\n",
    "        zipped = dict(zip(keys, vals))\n",
    "        zipped['Zip Code'] = code\n",
    "        zip_code_data.append(zipped)\n",
    "    return zip_code_data\n",
    "\n",
    "def full_zip(row):\n",
    "    row = str(row)\n",
    "    if len(row) == 3:\n",
    "        return \"00\" + str(row)\n",
    "    elif len(row) == 4:\n",
    "        return \"0\" + str(row)\n",
    "    else:\n",
    "        return str(row)"
   ]
  }
 ],
 "metadata": {
  "kernelspec": {
   "display_name": "Python 3",
   "language": "python",
   "name": "python3"
  },
  "language_info": {
   "codemirror_mode": {
    "name": "ipython",
    "version": 3
   },
   "file_extension": ".py",
   "mimetype": "text/x-python",
   "name": "python",
   "nbconvert_exporter": "python",
   "pygments_lexer": "ipython3",
   "version": "3.6.3"
  }
 },
 "nbformat": 4,
 "nbformat_minor": 2
}
