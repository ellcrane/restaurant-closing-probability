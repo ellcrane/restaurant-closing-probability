{
 "cells": [
  {
   "cell_type": "code",
   "execution_count": 24,
   "metadata": {},
   "outputs": [],
   "source": [
    "import pandas as pd\n",
    "import numpy as np\n",
    "import requests\n",
    "import yaml\n",
    "import time\n",
    "from random import shuffle\n",
    "import json\n",
    "from pymongo import MongoClient\n",
    "from collections import Counter\n",
    "from geopy.geocoders import Nominatim"
   ]
  },
  {
   "cell_type": "code",
   "execution_count": 25,
   "metadata": {
    "collapsed": true
   },
   "outputs": [],
   "source": [
    "geolocator = Nominatim()"
   ]
  },
  {
   "cell_type": "code",
   "execution_count": 2,
   "metadata": {},
   "outputs": [],
   "source": [
    "def get_zip_code(row):\n",
    "    try:\n",
    "        return geolocator.reverse(row).raw['address']['postcode']\n",
    "    except KeyError:\n",
    "        return \"No postcode\""
   ]
  },
  {
   "cell_type": "code",
   "execution_count": 12,
   "metadata": {},
   "outputs": [],
   "source": [
    "restaurants_with_google_data = restaurants_with_google_data.reset_index()"
   ]
  },
  {
   "cell_type": "code",
   "execution_count": 20,
   "metadata": {},
   "outputs": [],
   "source": [
    "addresses = []"
   ]
  },
  {
   "cell_type": "code",
   "execution_count": null,
   "metadata": {},
   "outputs": [
    {
     "name": "stdout",
     "output_type": "stream",
     "text": [
      "29454\n",
      "29354\n",
      "29254\n"
     ]
    }
   ],
   "source": [
    "for i in range(len(restaurants_with_google_data)):\n",
    "    coordinates = str(restaurants_with_google_data['latitude'][i]) + \", \" + str(restaurants_with_google_data['latitude'][i])\n",
    "    try:\n",
    "        addresses.append((coordinates, geolocator.reverse(coordinates).raw))\n",
    "    except:\n",
    "        addresses.append((coordinates, 'timed_out'))\n",
    "    if i % 100 == 0:\n",
    "        print(len(restaurants_with_google_data) - i)"
   ]
  },
  {
   "cell_type": "code",
   "execution_count": null,
   "metadata": {},
   "outputs": [],
   "source": [
    "str(restaurants_with_google_data['latitude']) + str(restaurants_with_google_data['longitude']"
   ]
  },
  {
   "cell_type": "code",
   "execution_count": 10,
   "metadata": {
    "collapsed": true
   },
   "outputs": [],
   "source": [
    "def create_pandas_df_from_json(path):\n",
    "    '''\n",
    "    INPUT: filepath string\n",
    "    OUTPUT: pandas database\n",
    "    '''\n",
    "    return pd.read_json(file_path, lines=True)\n",
    "\n",
    "def is_food(item):\n",
    "    '''\n",
    "    INPUT: cell from pandas dataframe\n",
    "    OUTPUT: boolean\n",
    "    '''\n",
    "    restaurants_and_related_categories = ['Restaurants', 'Italian','Food', 'Bars','Fast Food', 'Coffee & Tea', 'Sandwiches']\n",
    "    if len(set(restaurants_and_related_categories) & set(item)) >= 1:\n",
    "        return True\n",
    "    else:\n",
    "        return False\n",
    "    \n",
    "def flatten_dict(row):\n",
    "    out = {}\n",
    "    for key, value in row.items():\n",
    "        if type(value) != dict:\n",
    "            out[key] = value\n",
    "        else:\n",
    "            sub_key = key\n",
    "            for k, v in value.items():\n",
    "                out[sub_key + \"|\" + k] = v\n",
    "    return out\n",
    "\n",
    "def make_exists_function(key):\n",
    "    def get_key_if_exists(row):\n",
    "        if key in row:\n",
    "            return row[key]\n",
    "        else:\n",
    "            return \"N/A\"\n",
    "    return get_key_if_exists\n",
    "\n",
    "def add_restaurant_count_column(dataframe):\n",
    "    restaurant_frequency = dataframe.groupby(['name']).count().sort_values('address', ascending=False)\n",
    "\n",
    "    restaurant_frequency = pd.DataFrame(restaurant_frequency['address'])\n",
    "\n",
    "    restaurant_frequency.columns = ['restaurant_count']\n",
    "\n",
    "    restaurant_frequency['name'] = restaurant_frequency.index\n",
    "\n",
    "    restaurant_frequency = restaurant_frequency[['name', 'restaurant_count']]\n",
    "\n",
    "    return previously_open_US_restaurants.merge(restaurant_frequency, how='left', left_on='name', right_on='name')\n",
    "\n",
    "def closed_on_google(row):\n",
    "    try:\n",
    "        return row[0]['permanently_closed']\n",
    "    except:\n",
    "        return False"
   ]
  },
  {
   "cell_type": "code",
   "execution_count": 11,
   "metadata": {
    "scrolled": true
   },
   "outputs": [
    {
     "name": "stderr",
     "output_type": "stream",
     "text": [
      "/Users/ElliottC/anaconda3/lib/python3.6/site-packages/ipykernel_launcher.py:8: SettingWithCopyWarning: \n",
      "A value is trying to be set on a copy of a slice from a DataFrame.\n",
      "Try using .loc[row_indexer,col_indexer] = value instead\n",
      "\n",
      "See the caveats in the documentation: http://pandas.pydata.org/pandas-docs/stable/indexing.html#indexing-view-versus-copy\n",
      "  \n",
      "/Users/ElliottC/anaconda3/lib/python3.6/site-packages/ipykernel_launcher.py:18: SettingWithCopyWarning: \n",
      "A value is trying to be set on a copy of a slice from a DataFrame.\n",
      "Try using .loc[row_indexer,col_indexer] = value instead\n",
      "\n",
      "See the caveats in the documentation: http://pandas.pydata.org/pandas-docs/stable/indexing.html#indexing-view-versus-copy\n",
      "/Users/ElliottC/anaconda3/lib/python3.6/site-packages/ipykernel_launcher.py:22: SettingWithCopyWarning: \n",
      "A value is trying to be set on a copy of a slice from a DataFrame.\n",
      "Try using .loc[row_indexer,col_indexer] = value instead\n",
      "\n",
      "See the caveats in the documentation: http://pandas.pydata.org/pandas-docs/stable/indexing.html#indexing-view-versus-copy\n",
      "/Users/ElliottC/anaconda3/lib/python3.6/site-packages/ipykernel_launcher.py:29: SettingWithCopyWarning: \n",
      "A value is trying to be set on a copy of a slice from a DataFrame.\n",
      "Try using .loc[row_indexer,col_indexer] = value instead\n",
      "\n",
      "See the caveats in the documentation: http://pandas.pydata.org/pandas-docs/stable/indexing.html#indexing-view-versus-copy\n",
      "/Users/ElliottC/anaconda3/lib/python3.6/site-packages/ipykernel_launcher.py:32: SettingWithCopyWarning: \n",
      "A value is trying to be set on a copy of a slice from a DataFrame.\n",
      "Try using .loc[row_indexer,col_indexer] = value instead\n",
      "\n",
      "See the caveats in the documentation: http://pandas.pydata.org/pandas-docs/stable/indexing.html#indexing-view-versus-copy\n",
      "/Users/ElliottC/anaconda3/lib/python3.6/site-packages/ipykernel_launcher.py:40: SettingWithCopyWarning: \n",
      "A value is trying to be set on a copy of a slice from a DataFrame.\n",
      "Try using .loc[row_indexer,col_indexer] = value instead\n",
      "\n",
      "See the caveats in the documentation: http://pandas.pydata.org/pandas-docs/stable/indexing.html#indexing-view-versus-copy\n"
     ]
    }
   ],
   "source": [
    "file_path = 'https://s3-us-west-2.amazonaws.com/businesspredictiondata/business.json'\n",
    "yelp_business_data = create_pandas_df_from_json(file_path)\n",
    "\n",
    "#filters businesses that were open when this dataset was published Jan. 2018\n",
    "open_businesses = yelp_business_data[yelp_business_data['is_open'] == 1]\n",
    "\n",
    "#creates column that says if business is restaurant and creates df of just open restaurants\n",
    "open_businesses['is_food'] = open_businesses['categories'].apply(is_food)\n",
    "open_restaurants = open_businesses[open_businesses['is_food'] == True]\n",
    "\n",
    "#creates column that says if business is in USA and creates df of just\n",
    "#restaurants open in the US as of January 2018\n",
    "states = [\"AL\", \"AK\", \"AZ\", \"AR\", \"CA\", \"CO\", \"CT\", \"DC\", \"DE\", \"FL\", \"GA\",\n",
    "      \"HI\", \"ID\", \"IL\", \"IN\", \"IA\", \"KS\", \"KY\", \"LA\", \"ME\", \"MD\",\n",
    "      \"MA\", \"MI\", \"MN\", \"MS\", \"MO\", \"MT\", \"NE\", \"NV\", \"NH\", \"NJ\",\n",
    "      \"NM\", \"NY\", \"NC\", \"ND\", \"OH\", \"OK\", \"OR\", \"PA\", \"RI\", \"SC\",\n",
    "      \"SD\", \"TN\", \"TX\", \"UT\", \"VT\", \"VA\", \"WA\", \"WV\", \"WI\", \"WY\"]\n",
    "open_restaurants['in_US'] = open_restaurants['state'].isin(states)\n",
    "previously_open_US_restaurants = open_restaurants[open_restaurants['in_US'] == True]\n",
    "\n",
    "#creates dummy columns for \n",
    "previously_open_US_restaurants['flat_attributes'] = previously_open_US_restaurants['attributes'].apply(flatten_dict)\n",
    "all_attributes = []\n",
    "for row in previously_open_US_restaurants['flat_attributes']:\n",
    "    all_attributes.extend(row.keys())\n",
    "unique_attributes = list(dict(Counter(all_attributes).most_common(50)).keys())\n",
    "\n",
    "for key in unique_attributes:\n",
    "    previously_open_US_restaurants['Attribute|has_'+key] = previously_open_US_restaurants['flat_attributes'].apply(lambda x: key in x)\n",
    "    \n",
    "    f = make_exists_function(key)\n",
    "    previously_open_US_restaurants['Attribute|' +key + ' value:'] = previously_open_US_restaurants['flat_attributes'].apply(f)\n",
    "    \n",
    "all_categories = []\n",
    "[all_categories.extend(item) for item in list(previously_open_US_restaurants['categories'])]\n",
    "\n",
    "most_common_categories = list(dict(Counter(all_categories).most_common(50)).keys())\n",
    "\n",
    "for key in most_common_categories:\n",
    "    previously_open_US_restaurants[f\"Category|{key}_true\"] = previously_open_US_restaurants['categories'].apply(lambda x: key in x)\n",
    "\n",
    "previously_open_US_restaurants = add_restaurant_count_column(previously_open_US_restaurants)\n",
    "    \n",
    "client = MongoClient('mongodb://localhost:27017/')\n",
    "restaurants = client['restaurants']\n",
    "google_places = restaurants['google_places']\n",
    "start_time = time.time()\n",
    "\n",
    "google_df = pd.DataFrame(list(google_places.find()))\n",
    "\n",
    "google_df = google_df[['queried_name', 'yelp_business_id', 'results']]\n",
    "\n",
    "google_df['closed_on_google'] = google_df['results'].apply(closed_on_google)\n",
    "\n",
    "restaurants_with_google_data = previously_open_US_restaurants.merge(google_df, how='inner', left_on='business_id', right_on='yelp_business_id')\n",
    "\n",
    "#removes rows without any matching data from Google\n",
    "restaurants_with_google_data = restaurants_with_google_data[restaurants_with_google_data['results'].map(len) > 0]\n",
    "\n",
    "restaurants_with_google_data.to_csv('/Users/ElliottC/g/projects/yelp/predicting_restaurant_closure/data/featurized_dataframe.csv')"
   ]
  },
  {
   "cell_type": "code",
   "execution_count": 17,
   "metadata": {
    "collapsed": true
   },
   "outputs": [],
   "source": [
    "cols = [\n",
    " 'restaurant_count','review_count','stars',\n",
    "    'Attribute|has_BusinessAcceptsCreditCards', 'Attribute|BusinessAcceptsCreditCards value:', 'Attribute|has_RestaurantsPriceRange2', 'Attribute|RestaurantsPriceRange2 value:', 'Attribute|has_RestaurantsTakeOut', 'Attribute|RestaurantsTakeOut value:', 'Attribute|has_BusinessParking|garage', 'Attribute|BusinessParking|garage value:', 'Attribute|has_BusinessParking|street', 'Attribute|BusinessParking|street value:', 'Attribute|has_BusinessParking|lot', 'Attribute|BusinessParking|lot value:', 'Attribute|has_BusinessParking|valet', 'Attribute|BusinessParking|valet value:', 'Attribute|has_BusinessParking|validated', 'Attribute|BusinessParking|validated value:', 'Attribute|has_BikeParking', 'Attribute|BikeParking value:', 'Attribute|has_OutdoorSeating', 'Attribute|OutdoorSeating value:', 'Attribute|has_RestaurantsGoodForGroups', 'Attribute|RestaurantsGoodForGroups value:', 'Attribute|has_RestaurantsDelivery', 'Attribute|RestaurantsDelivery value:', 'Attribute|has_RestaurantsReservations', 'Attribute|RestaurantsReservations value:', 'Attribute|has_GoodForKids', 'Attribute|GoodForKids value:', 'Attribute|has_HasTV', 'Attribute|HasTV value:', 'Attribute|has_WiFi', 'Attribute|has_Ambience|romantic', 'Attribute|Ambience|romantic value:', 'Attribute|has_Ambience|intimate', 'Attribute|Ambience|intimate value:', 'Attribute|has_Ambience|classy', 'Attribute|Ambience|classy value:', 'Attribute|has_Ambience|hipster', 'Attribute|Ambience|hipster value:', 'Attribute|has_Ambience|touristy', 'Attribute|Ambience|touristy value:', 'Attribute|has_Ambience|trendy', 'Attribute|Ambience|trendy value:', 'Attribute|has_Ambience|upscale', 'Attribute|Ambience|upscale value:', 'Attribute|has_Ambience|casual', 'Attribute|Ambience|casual value:', 'Attribute|has_Ambience|divey', 'Attribute|Ambience|divey value:', 'Attribute|has_Alcohol', 'Attribute|has_RestaurantsAttire', 'Attribute|has_GoodForMeal|dessert', 'Attribute|GoodForMeal|dessert value:', 'Attribute|has_GoodForMeal|latenight', 'Attribute|GoodForMeal|latenight value:', 'Attribute|has_GoodForMeal|lunch', 'Attribute|GoodForMeal|lunch value:', 'Attribute|has_GoodForMeal|dinner', 'Attribute|GoodForMeal|dinner value:', 'Attribute|has_GoodForMeal|breakfast', 'Attribute|GoodForMeal|breakfast value:', 'Attribute|has_GoodForMeal|brunch', 'Attribute|GoodForMeal|brunch value:', 'Attribute|has_Caters', 'Attribute|Caters value:', 'Attribute|has_NoiseLevel', 'Attribute|has_RestaurantsTableService', 'Attribute|RestaurantsTableService value:', 'Attribute|has_WheelchairAccessible', 'Attribute|WheelchairAccessible value:', 'Attribute|has_HappyHour', 'Attribute|HappyHour value:', 'Attribute|has_GoodForDancing', 'Attribute|GoodForDancing value:', 'Attribute|has_DriveThru', 'Attribute|DriveThru value:', 'Attribute|has_Music|dj', 'Attribute|Music|dj value:', 'Attribute|has_Music|background_music', 'Attribute|Music|background_music value:', 'Attribute|has_Music|no_music', 'Attribute|Music|no_music value:', 'Attribute|has_Music|karaoke', 'Attribute|Music|karaoke value:', 'Attribute|has_Music|live', 'Attribute|Music|live value:', 'Attribute|has_Music|video', 'Attribute|Music|video value:', 'Attribute|has_Music|jukebox', 'Attribute|Music|jukebox value:', 'Attribute|has_CoatCheck', 'Attribute|CoatCheck value:', 'Attribute|has_DogsAllowed', 'Attribute|DogsAllowed value:', 'Attribute|has_Smoking', 'Category|Restaurants_true', 'Category|Food_true', 'Category|Nightlife_true', 'Category|Bars_true', 'Category|Fast Food_true', 'Category|American (Traditional)_true', 'Category|Sandwiches_true', 'Category|Pizza_true', 'Category|Mexican_true', 'Category|Burgers_true', 'Category|American (New)_true', 'Category|Breakfast & Brunch_true', 'Category|Coffee & Tea_true', 'Category|Grocery_true', 'Category|Italian_true', 'Category|Specialty Food_true', 'Category|Shopping_true', 'Category|Chinese_true', 'Category|Event Planning & Services_true', 'Category|Chicken Wings_true', 'Category|Salad_true', 'Category|Bakeries_true', 'Category|Desserts_true', 'Category|Convenience Stores_true', 'Category|Ice Cream & Frozen Yogurt_true', 'Category|Sports Bars_true', 'Category|Seafood_true', 'Category|Beer_true', 'Category|Wine & Spirits_true', 'Category|Caterers_true', 'Category|Delis_true', 'Category|Cafes_true', 'Category|Drugstores_true', 'Category|Japanese_true', 'Category|Arts & Entertainment_true', 'Category|Juice Bars & Smoothies_true', 'Category|Pubs_true', 'Category|Steakhouses_true', 'Category|Sushi Bars_true', 'Category|Asian Fusion_true', 'Category|Barbeque_true', 'Category|Diners_true', 'Category|Lounges_true', 'Category|Automotive_true', 'Category|Gas Stations_true', 'Category|Cocktail Bars_true', 'Category|Mediterranean_true', 'Category|Wine Bars_true', 'Category|Food Trucks_true', 'Category|Tex-Mex_true']"
   ]
  },
  {
   "cell_type": "code",
   "execution_count": 18,
   "metadata": {},
   "outputs": [],
   "source": [
    "col_vals = {}\n",
    "for col in cols:\n",
    "    col_vals[col] = restaurants_with_google_data[col].value_counts()\n",
    "\n",
    "non_binary = {}\n",
    "binary = {}\n",
    "binary_with_na = {}\n",
    "for key, value in col_vals.items():\n",
    "    if (list(set(col_vals[key].index))[0] != False) and (list(set(col_vals[key].index))[0] != True):\n",
    "        non_binary[key] = list(col_vals[key].index)\n",
    "    elif len(list(set(col_vals[key].index))) > 2:\n",
    "        binary[key] = list(col_vals[key].index)\n",
    "    else:\n",
    "        binary_with_na[key] = list(col_vals[key].index)"
   ]
  },
  {
   "cell_type": "code",
   "execution_count": null,
   "metadata": {
    "collapsed": true
   },
   "outputs": [],
   "source": []
  }
 ],
 "metadata": {
  "kernelspec": {
   "display_name": "Python 3",
   "language": "python",
   "name": "python3"
  },
  "language_info": {
   "codemirror_mode": {
    "name": "ipython",
    "version": 3
   },
   "file_extension": ".py",
   "mimetype": "text/x-python",
   "name": "python",
   "nbconvert_exporter": "python",
   "pygments_lexer": "ipython3",
   "version": "3.6.3"
  }
 },
 "nbformat": 4,
 "nbformat_minor": 2
}
